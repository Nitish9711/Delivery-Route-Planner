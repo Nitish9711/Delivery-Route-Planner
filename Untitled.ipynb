{
 "cells": [
  {
   "cell_type": "code",
   "execution_count": 1,
   "metadata": {},
   "outputs": [
    {
     "name": "stdout",
     "output_type": "stream",
     "text": [
      "25.06521486086585\n"
     ]
    }
   ],
   "source": [
    "from geopy.geocoders import Nominatim\n",
    "from geopy.distance import geodesic\n",
    "\n",
    "Geolocator = Nominatim(user_agent = \"Mozilla/5.0 (Windows NT 10.0; Win64; x64) AppleWebKit/537.36 (KHTML, like Gecko) Chrome/86.0.4240.111 Safari/537.36\")\n",
    "\n",
    "\n",
    "\n",
    "def calculateDistance(loc1,loc2):\n",
    "    cor1 = (float(locationInfo1.latitude),float(locationInfo1.longitude))\n",
    "\n",
    "    cor2 = (float(locationInfo2.latitude),float(locationInfo2.longitude))\n",
    "\n",
    "l1 = 28.65381\n",
    "   \n",
    "\n",
    "cor1 = (l1, 77.22897)\n",
    "cor2= (28.79966, 77.0328847)\n",
    "print(geodesic(cor1,cor2).kilometers)\n"
   ]
  },
  {
   "cell_type": "code",
   "execution_count": null,
   "metadata": {},
   "outputs": [],
   "source": [
    "locations = earthquake_df[['latitude', 'longitude']]\n",
    "weights = earthquake_df['magnitude']\n",
    "fig = gmaps.figure()\n",
    "fig.add_layer(gmaps.heatmap_layer(locations, weights=weights))\n",
    "fig"
   ]
  },
  {
   "cell_type": "code",
   "execution_count": 27,
   "metadata": {},
   "outputs": [],
   "source": [
    "from geopy.geocoders import Nominatim\n",
    "from geopy.distance import geodesic\n",
    "def distance(cor1, cor2):\n",
    "        return (geodesic(cor1,cor2).kilometers)"
   ]
  },
  {
   "cell_type": "code",
   "execution_count": 1,
   "metadata": {},
   "outputs": [],
   "source": [
    "import pymongo\n",
    "myclient = pymongo.MongoClient(\"mongodb://localhost:27017/\")\n",
    "dist = myclient[\"distance\"]\n",
    "dis = dist[\"dummy 2020-11-17 23 31\"]\n",
    "o_db = myclient[\"Orders\"]\n",
    "orders = o_db[\"dummy 2020-11-17 23 31\"]\n",
    "o_town = myclient[\"coordinates\"]\n",
    "towns = o_town[\"town\"]\n",
    "from geopy.geocoders import Nominatim\n",
    "from geopy.distance import geodesic\n",
    "Geolocator = Nominatim(user_agent = \"Mozilla/5.0 (Windows NT 10.0; Win64; x64) AppleWebKit/537.36 (KHTML, like Gecko) Chrome/86.0.4240.111 Safari/537.36\")\n",
    "def distance(cor1, cor2):\n",
    "        return (geodesic(cor1,cor2).kilometers)\n",
    "    \n",
    "import requests\n",
    "res = requests.get('https://ipinfo.io/')\n",
    "data = res.json()\n",
    "\n",
    "city = data['city']\n",
    "\n",
    "location = data['loc'].split(',')\n",
    "latitude = location[0]\n",
    "longitude = location[1]\n",
    "cor1 = (latitude, longitude)\n",
    "\n",
    "dis.insert_one({\"_id\":\"start\"})\n",
    "for order in orders.find():\n",
    "    id2 = order[\"_id\"]\n",
    "    address2 = order[\"Town\"]\n",
    "    coord2 = towns.find_one({\"town\": address2})\n",
    "    cor2 = (coord2[\"lat\"], coord2[\"long\"])\n",
    "    displacement = distance(cor1, cor2)\n",
    "    dis.update_one({\"_id\": \"start\"}, {\"$set\":{str(id2) : displacement}})"
   ]
  },
  {
   "cell_type": "code",
   "execution_count": 2,
   "metadata": {},
   "outputs": [],
   "source": [
    "import requests\n",
    "res = requests.get('https://ipinfo.io/')\n",
    "data = res.json()\n",
    "\n",
    "city = data['city']\n",
    "\n",
    "location = data['loc'].split(',')\n",
    "latitude = location[0]\n",
    "longitude = location[1]\n",
    "cor1 = (latitude, longitude)\n",
    "\n",
    "for order in orders.find():\n",
    "    id = order[\"_id\"]\n",
    "    address = order[\"Town\"]\n",
    "    coord = towns.find_one({\"town\": address})\n",
    "    cor2 = (coord[\"lat\"], coord[\"long\"])\n",
    "    dis.insert_one({\"_id\": order[\"_id\"], \"start\":distance(cor1, cor2)})"
   ]
  },
  {
   "cell_type": "code",
   "execution_count": 3,
   "metadata": {},
   "outputs": [],
   "source": [
    "for order in orders.find():\n",
    "    id = order[\"_id\"]\n",
    "    address = order[\"Town\"]\n",
    "    coord = towns.find_one({\"town\": address})\n",
    "    cor1 = (coord[\"lat\"], coord[\"long\"])\n",
    "    for o_list in orders.find():\n",
    "        if(o_list[\"_id\"] != id):\n",
    "            id2 = o_list[\"_id\"]\n",
    "            address2 = o_list[\"Town\"]\n",
    "            coord2 = towns.find_one({\"town\": address2})\n",
    "            cor2 = (coord2[\"lat\"], coord2[\"long\"])\n",
    "            displacement = distance(cor1, cor2)\n",
    "            dis.update_one({\"_id\": id}, {\"$set\":{str(id2) : displacement}})"
   ]
  },
  {
   "cell_type": "code",
   "execution_count": null,
   "metadata": {},
   "outputs": [],
   "source": []
  },
  {
   "cell_type": "code",
   "execution_count": 96,
   "metadata": {},
   "outputs": [
    {
     "name": "stdout",
     "output_type": "stream",
     "text": [
      "The best state found is:  [7 6 5 4 3 2 1 0]\n",
      "The fitness at the best state is:  17.3428\n",
      "4.310039599999072\n"
     ]
    }
   ],
   "source": [
    "import six\n",
    "import sys\n",
    "sys.modules['sklearn.externals.six'] = six\n",
    "import mlrose\n",
    "import numpy as np\n",
    "from timeit import default_timer as timer \n",
    "\n",
    "def solve(dist_list, list_length):\n",
    "        # Initialize fitness function object using dist_list\n",
    "    fitness_dists = mlrose.TravellingSales(distances = dist_list)\n",
    "\n",
    "    problem_fit = mlrose.TSPOpt(length = list_length, fitness_fn = fitness_dists, maximize=False)\n",
    "\n",
    "    # Solve problem using the genetic algorithm\n",
    "    best_state, best_fitness = mlrose.genetic_alg(problem_fit, mutation_prob = 0.2, \n",
    "                              max_attempts = 100, random_state = 2)\n",
    "\n",
    "    print('The best state found is: ', best_state)\n",
    "\n",
    "    print('The fitness at the best state is: ', best_fitness)\n",
    "\n",
    "\n",
    "    \n",
    "\n",
    "# Create list of distances between pairs of cities\n",
    "dist_list = [(0, 1, 3.1623), (0, 2, 4.1231), (0, 3, 5.8310), (0, 4, 4.2426),\n",
    "             (0, 5, 5.3852), (0, 6, 4.0000), (0, 7, 2.2361), (1, 2, 1.0000),\n",
    "             (1, 3, 2.8284), (1, 4, 2.0000), (1, 5, 4.1231), (1, 6, 4.2426),\n",
    "             (1, 7, 2.2361), (2, 3, 2.2361), (2, 4, 2.2361), (2, 5, 4.4721),\n",
    "             (2, 6, 5.0000), (2, 7, 3.1623), (3, 4, 2.0000), (3, 5, 3.6056),\n",
    "             (3, 6, 5.0990), (3, 7, 4.1231), (4, 5, 2.2361), (4, 6, 3.1623),\n",
    "             (4, 7, 2.2361), (5, 6, 2.2361), (5, 7, 3.1623), (6, 7, 2.2361)]\n",
    "\n",
    "start = timer()\n",
    "solve(dist_list, 8)\n",
    "print(timer()-start)"
   ]
  },
  {
   "cell_type": "code",
   "execution_count": 1,
   "metadata": {},
   "outputs": [
    {
     "name": "stdout",
     "output_type": "stream",
     "text": [
      "Objective: 7293 miles\n",
      "Route for vehicle 0:\n",
      " 0 -> 7 -> 2 -> 3 -> 4 -> 12 -> 6 -> 8 -> 1 -> 11 -> 10 -> 5 -> 9 -> 0\n",
      "\n",
      "0.09179349999999431\n"
     ]
    }
   ],
   "source": [
    "\"\"\"Simple travelling salesman problem between cities.\"\"\"\n",
    "\n",
    "from __future__ import print_function\n",
    "from ortools.constraint_solver import routing_enums_pb2\n",
    "from ortools.constraint_solver import pywrapcp\n",
    "\n",
    "from timeit import default_timer as timer \n",
    "\n",
    "def create_data_model():\n",
    "    \"\"\"Stores the data for the problem.\"\"\"\n",
    "    data = {}\n",
    "    data['distance_matrix'] = [\n",
    "        [0, 2451, 713, 1018, 1631, 1374, 2408, 213, 2571, 875, 1420, 2145, 1972],\n",
    "        [2451, 0, 1745, 1524, 831, 1240, 959, 2596, 403, 1589, 1374, 357, 579],\n",
    "        [713, 1745, 0, 355, 920, 803, 1737, 851, 1858, 262, 940, 1453, 1260],\n",
    "        [1018, 1524, 355, 0, 700, 862, 1395, 1123, 1584, 466, 1056, 1280, 987],\n",
    "        [1631, 831, 920, 700, 0, 663, 1021, 1769, 949, 796, 879, 586, 371],\n",
    "        [1374, 1240, 803, 862, 663, 0, 1681, 1551, 1765, 547, 225, 887, 999],\n",
    "        [2408, 959, 1737, 1395, 1021, 1681, 0, 2493, 678, 1724, 1891, 1114, 701],\n",
    "        [213, 2596, 851, 1123, 1769, 1551, 2493, 0, 2699, 1038, 1605, 2300, 2099],\n",
    "        [2571, 403, 1858, 1584, 949, 1765, 678, 2699, 0, 1744, 1645, 653, 600],\n",
    "        [875, 1589, 262, 466, 796, 547, 1724, 1038, 1744, 0, 679, 1272, 1162],\n",
    "        [1420, 1374, 940, 1056, 879, 225, 1891, 1605, 1645, 679, 0, 1017, 1200],\n",
    "        [2145, 357, 1453, 1280, 586, 887, 1114, 2300, 653, 1272, 1017, 0, 504],\n",
    "        [1972, 579, 1260, 987, 371, 999, 701, 2099, 600, 1162, 1200, 504, 0],\n",
    "    ]  # yapf: disable\n",
    "    data['num_vehicles'] = 1\n",
    "    data['depot'] = 0\n",
    "    return data\n",
    "\n",
    "\n",
    "def print_solution(manager, routing, solution):\n",
    "    \"\"\"Prints solution on console.\"\"\"\n",
    "    print('Objective: {} miles'.format(solution.ObjectiveValue()))\n",
    "    index = routing.Start(0)\n",
    "    plan_output = 'Route for vehicle 0:\\n'\n",
    "    route_distance = 0\n",
    "    while not routing.IsEnd(index):\n",
    "        plan_output += ' {} ->'.format(manager.IndexToNode(index))\n",
    "        previous_index = index\n",
    "        index = solution.Value(routing.NextVar(index))\n",
    "        route_distance += routing.GetArcCostForVehicle(previous_index, index, 0)\n",
    "    plan_output += ' {}\\n'.format(manager.IndexToNode(index))\n",
    "    print(plan_output)\n",
    "    plan_output += 'Route distance: {}miles\\n'.format(route_distance)\n",
    "\n",
    "\n",
    "def main():\n",
    "    \"\"\"Entry point of the program.\"\"\"\n",
    "    # Instantiate the data problem.\n",
    "    data = create_data_model()\n",
    "\n",
    "    # Create the routing index manager.\n",
    "    manager = pywrapcp.RoutingIndexManager(len(data['distance_matrix']),\n",
    "                                           data['num_vehicles'], data['depot'])\n",
    "\n",
    "    # Create Routing Model.\n",
    "    routing = pywrapcp.RoutingModel(manager)\n",
    "\n",
    "\n",
    "    def distance_callback(from_index, to_index):\n",
    "        \"\"\"Returns the distance between the two nodes.\"\"\"\n",
    "        # Convert from routing variable Index to distance matrix NodeIndex.\n",
    "        from_node = manager.IndexToNode(from_index)\n",
    "        to_node = manager.IndexToNode(to_index)\n",
    "        return data['distance_matrix'][from_node][to_node]\n",
    "\n",
    "    transit_callback_index = routing.RegisterTransitCallback(distance_callback)\n",
    "\n",
    "    # Define cost of each arc.\n",
    "    routing.SetArcCostEvaluatorOfAllVehicles(transit_callback_index)\n",
    "\n",
    "    # Setting first solution heuristic.\n",
    "    search_parameters = pywrapcp.DefaultRoutingSearchParameters()\n",
    "    search_parameters.first_solution_strategy = (\n",
    "        routing_enums_pb2.FirstSolutionStrategy.PATH_CHEAPEST_ARC)\n",
    "\n",
    "    # Solve the problem.\n",
    "    solution = routing.SolveWithParameters(search_parameters)\n",
    "\n",
    "    # Print solution on console.\n",
    "    if solution:\n",
    "        print_solution(manager, routing, solution)\n",
    "\n",
    "start = timer()\n",
    "if __name__ == '__main__':\n",
    "    main()\n",
    "    \n",
    "print(timer()-start)"
   ]
  },
  {
   "cell_type": "code",
   "execution_count": 2,
   "metadata": {},
   "outputs": [],
   "source": [
    "import pymongo\n",
    "from bson import ObjectId\n",
    "myclient = pymongo.MongoClient(\"mongodb://localhost:27017/\")\n",
    "o_db = myclient[\"Orders\"]\n",
    "orders = o_db[\"dummy 2020-11-01 3 29\"]\n",
    "\n",
    "a_db  = myclient[\"assign\"]\n",
    "assign = a_db[\"dummy 2020-11-01 3 29\"]\n",
    "\n",
    "o_town = myclient[\"coordinates\"]\n",
    "towns = o_town[\"town\"]\n"
   ]
  },
  {
   "cell_type": "code",
   "execution_count": 3,
   "metadata": {},
   "outputs": [],
   "source": [
    "o_list  = ['start', ObjectId('5f9dde4a3543a57fdbe76225'), ObjectId('5f9dde4a3543a57fdbe76227'), ObjectId('5f9dde4a3543a57fdbe76228'), ObjectId('5f9dde4a3543a57fdbe76234'), ObjectId('5f9dde4a3543a57fdbe76237'), ObjectId('5f9dde4a3543a57fdbe76238'), ObjectId('5f9dde4a3543a57fdbe76240'), ObjectId('5f9dde4a3543a57fdbe76245'), ObjectId('5f9dde4a3543a57fdbe76246'), ObjectId('5f9dde4a3543a57fdbe7624b'), ObjectId('5f9dde4a3543a57fdbe7624d'), ObjectId('5f9dde4a3543a57fdbe7624e'), ObjectId('5f9dde4a3543a57fdbe76258'), ObjectId('5f9dde4a3543a57fdbe76259'), ObjectId('5f9dde4a3543a57fdbe7625b')]"
   ]
  },
  {
   "cell_type": "code",
   "execution_count": 4,
   "metadata": {},
   "outputs": [],
   "source": [
    "dist_list2 = [(0, 1, 3.1623), (0, 2, 4.1231), (0, 3, 5.8310), (0, 4, 4.2426),\n",
    "             (0, 5, 5.3852), (0, 6, 4.0000), (0, 7, 2.2361), (1, 2, 1.0000),\n",
    "             (1, 3, 2.8284), (1, 4, 2.0000), (1, 5, 4.1231), (1, 6, 4.2426),\n",
    "             (1, 7, 2.2361), (2, 3, 2.2361), (2, 4, 2.2361), (2, 5, 4.4721),\n",
    "             (2, 6, 5.0000), (2, 7, 3.1623), (3, 4, 2.0000), (3, 5, 3.6056),\n",
    "             (3, 6, 5.0990), (3, 7, 4.1231), (4, 5, 2.2361), (4, 6, 3.1623),\n",
    "             (4, 7, 2.2361), (5, 6, 2.2361), (5, 7, 3.1623), (6, 7, 2.2361)]"
   ]
  },
  {
   "cell_type": "code",
   "execution_count": 5,
   "metadata": {},
   "outputs": [
    {
     "data": {
      "text/plain": [
       "['start',\n",
       " ObjectId('5f9dde4a3543a57fdbe76225'),\n",
       " ObjectId('5f9dde4a3543a57fdbe76227'),\n",
       " ObjectId('5f9dde4a3543a57fdbe76228'),\n",
       " ObjectId('5f9dde4a3543a57fdbe76234'),\n",
       " ObjectId('5f9dde4a3543a57fdbe76237'),\n",
       " ObjectId('5f9dde4a3543a57fdbe76238'),\n",
       " ObjectId('5f9dde4a3543a57fdbe76240'),\n",
       " ObjectId('5f9dde4a3543a57fdbe76245'),\n",
       " ObjectId('5f9dde4a3543a57fdbe76246'),\n",
       " ObjectId('5f9dde4a3543a57fdbe7624b'),\n",
       " ObjectId('5f9dde4a3543a57fdbe7624d'),\n",
       " ObjectId('5f9dde4a3543a57fdbe7624e'),\n",
       " ObjectId('5f9dde4a3543a57fdbe76258'),\n",
       " ObjectId('5f9dde4a3543a57fdbe76259'),\n",
       " ObjectId('5f9dde4a3543a57fdbe7625b')]"
      ]
     },
     "execution_count": 5,
     "metadata": {},
     "output_type": "execute_result"
    }
   ],
   "source": [
    "o_list\n",
    "\n",
    "    "
   ]
  },
  {
   "cell_type": "code",
   "execution_count": 6,
   "metadata": {},
   "outputs": [
    {
     "name": "stdout",
     "output_type": "stream",
     "text": [
      "Objective: 7293 miles\n",
      "Route for vehicle 0:\n",
      " 0 -> 7 -> 2 -> 3 -> 4 -> 12 -> 6 -> 8 -> 1 -> 11 -> 10 -> 5 -> 9 -> 0\n",
      "\n",
      "0.03275589999999795\n"
     ]
    }
   ],
   "source": [
    "\"\"\"Simple travelling salesman problem between cities.\"\"\"\n",
    "\n",
    "from __future__ import print_function\n",
    "from ortools.constraint_solver import routing_enums_pb2\n",
    "from ortools.constraint_solver import pywrapcp\n",
    "\n",
    "from timeit import default_timer as timer \n",
    "\n",
    "def create_data_model():\n",
    "    \"\"\"Stores the data for the problem.\"\"\"\n",
    "    data = {}\n",
    "    data['distance_matrix'] = [\n",
    "        [0, 2451, 713, 1018, 1631, 1374, 2408, 213, 2571, 875, 1420, 2145, 1972],\n",
    "        [2451, 0, 1745, 1524, 831, 1240, 959, 2596, 403, 1589, 1374, 357, 579],\n",
    "        [713, 1745, 0, 355, 920, 803, 1737, 851, 1858, 262, 940, 1453, 1260],\n",
    "        [1018, 1524, 355, 0, 700, 862, 1395, 1123, 1584, 466, 1056, 1280, 987],\n",
    "        [1631, 831, 920, 700, 0, 663, 1021, 1769, 949, 796, 879, 586, 371],\n",
    "        [1374, 1240, 803, 862, 663, 0, 1681, 1551, 1765, 547, 225, 887, 999],\n",
    "        [2408, 959, 1737, 1395, 1021, 1681, 0, 2493, 678, 1724, 1891, 1114, 701],\n",
    "        [213, 2596, 851, 1123, 1769, 1551, 2493, 0, 2699, 1038, 1605, 2300, 2099],\n",
    "        [2571, 403, 1858, 1584, 949, 1765, 678, 2699, 0, 1744, 1645, 653, 600],\n",
    "        [875, 1589, 262, 466, 796, 547, 1724, 1038, 1744, 0, 679, 1272, 1162],\n",
    "        [1420, 1374, 940, 1056, 879, 225, 1891, 1605, 1645, 679, 0, 1017, 1200],\n",
    "        [2145, 357, 1453, 1280, 586, 887, 1114, 2300, 653, 1272, 1017, 0, 504],\n",
    "        [1972, 579, 1260, 987, 371, 999, 701, 2099, 600, 1162, 1200, 504, 0],\n",
    "    ]  # yapf: disable\n",
    "    data['num_vehicles'] = 1\n",
    "    data['depot'] = 0\n",
    "    return data\n",
    "\n",
    "\n",
    "def print_solution(manager, routing, solution):\n",
    "    \"\"\"Prints solution on console.\"\"\"\n",
    "    print('Objective: {} miles'.format(solution.ObjectiveValue()))\n",
    "    index = routing.Start(0)\n",
    "    plan_output = 'Route for vehicle 0:\\n'\n",
    "    route_distance = 0\n",
    "    while not routing.IsEnd(index):\n",
    "        plan_output += ' {} ->'.format(manager.IndexToNode(index))\n",
    "        previous_index = index\n",
    "        index = solution.Value(routing.NextVar(index))\n",
    "        route_distance += routing.GetArcCostForVehicle(previous_index, index, 0)\n",
    "    plan_output += ' {}\\n'.format(manager.IndexToNode(index))\n",
    "    print(plan_output)\n",
    "    plan_output += 'Route distance: {}miles\\n'.format(route_distance)\n",
    "\n",
    "\n",
    "def main():\n",
    "    \"\"\"Entry point of the program.\"\"\"\n",
    "    # Instantiate the data problem.\n",
    "    data = create_data_model()\n",
    "\n",
    "    # Create the routing index manager.\n",
    "    manager = pywrapcp.RoutingIndexManager(len(data['distance_matrix']),\n",
    "                                           data['num_vehicles'], data['depot'])\n",
    "\n",
    "    # Create Routing Model.\n",
    "    routing = pywrapcp.RoutingModel(manager)\n",
    "\n",
    "\n",
    "    def distance_callback(from_index, to_index):\n",
    "        \"\"\"Returns the distance between the two nodes.\"\"\"\n",
    "        # Convert from routing variable Index to distance matrix NodeIndex.\n",
    "        from_node = manager.IndexToNode(from_index)\n",
    "        to_node = manager.IndexToNode(to_index)\n",
    "        return data['distance_matrix'][from_node][to_node]\n",
    "\n",
    "    transit_callback_index = routing.RegisterTransitCallback(distance_callback)\n",
    "\n",
    "    # Define cost of each arc.\n",
    "    routing.SetArcCostEvaluatorOfAllVehicles(transit_callback_index)\n",
    "\n",
    "    # Setting first solution heuristic.\n",
    "    search_parameters = pywrapcp.DefaultRoutingSearchParameters()\n",
    "    search_parameters.first_solution_strategy = (\n",
    "        routing_enums_pb2.FirstSolutionStrategy.PATH_CHEAPEST_ARC)\n",
    "\n",
    "    # Solve the problem.\n",
    "    solution = routing.SolveWithParameters(search_parameters)\n",
    "\n",
    "    # Print solution on console.\n",
    "    if solution:\n",
    "        print_solution(manager, routing, solution)\n",
    "\n",
    "start = timer()\n",
    "if __name__ == '__main__':\n",
    "    main()\n",
    "    \n",
    "print(timer()-start)"
   ]
  },
  {
   "cell_type": "code",
   "execution_count": 7,
   "metadata": {},
   "outputs": [],
   "source": [
    "o_list  = ['start', ObjectId('5f9dde4a3543a57fdbe76225'), ObjectId('5f9dde4a3543a57fdbe76227'), ObjectId('5f9dde4a3543a57fdbe76228'), ObjectId('5f9dde4a3543a57fdbe76234'), ObjectId('5f9dde4a3543a57fdbe76237'), ObjectId('5f9dde4a3543a57fdbe76238'), ObjectId('5f9dde4a3543a57fdbe76240'), ObjectId('5f9dde4a3543a57fdbe76245'), ObjectId('5f9dde4a3543a57fdbe76246'), ObjectId('5f9dde4a3543a57fdbe7624b'), ObjectId('5f9dde4a3543a57fdbe7624d'), ObjectId('5f9dde4a3543a57fdbe7624e'), ObjectId('5f9dde4a3543a57fdbe76258'), ObjectId('5f9dde4a3543a57fdbe76259'), ObjectId('5f9dde4a3543a57fdbe7625b')]"
   ]
  },
  {
   "cell_type": "code",
   "execution_count": null,
   "metadata": {},
   "outputs": [],
   "source": [
    "\n"
   ]
  },
  {
   "cell_type": "code",
   "execution_count": 1,
   "metadata": {},
   "outputs": [],
   "source": [
    "import pymongo\n",
    "from bson import ObjectId\n",
    "myclient = pymongo.MongoClient(\"mongodb://localhost:27017/\")\n",
    "dist = myclient[\"distance\"]\n",
    "db = dist[\"user\"]\n",
    " \n"
   ]
  },
  {
   "cell_type": "code",
   "execution_count": 2,
   "metadata": {},
   "outputs": [],
   "source": [
    "o_list  = ['start', ObjectId('5f9dde4a3543a57fdbe76225'), ObjectId('5f9dde4a3543a57fdbe76227'), ObjectId('5f9dde4a3543a57fdbe76228'), ObjectId('5f9dde4a3543a57fdbe76234'), ObjectId('5f9dde4a3543a57fdbe76237'), ObjectId('5f9dde4a3543a57fdbe76238'), ObjectId('5f9dde4a3543a57fdbe76240'), ObjectId('5f9dde4a3543a57fdbe76245'), ObjectId('5f9dde4a3543a57fdbe76246'), ObjectId('5f9dde4a3543a57fdbe7624b'), ObjectId('5f9dde4a3543a57fdbe7624d'), ObjectId('5f9dde4a3543a57fdbe7624e'), ObjectId('5f9dde4a3543a57fdbe76258'), ObjectId('5f9dde4a3543a57fdbe76259'), ObjectId('5f9dde4a3543a57fdbe7625b')]"
   ]
  },
  {
   "cell_type": "code",
   "execution_count": 3,
   "metadata": {},
   "outputs": [
    {
     "data": {
      "text/plain": [
       "['start',\n",
       " ObjectId('5f9dde4a3543a57fdbe76225'),\n",
       " ObjectId('5f9dde4a3543a57fdbe76227'),\n",
       " ObjectId('5f9dde4a3543a57fdbe76228'),\n",
       " ObjectId('5f9dde4a3543a57fdbe76234'),\n",
       " ObjectId('5f9dde4a3543a57fdbe76237'),\n",
       " ObjectId('5f9dde4a3543a57fdbe76238'),\n",
       " ObjectId('5f9dde4a3543a57fdbe76240'),\n",
       " ObjectId('5f9dde4a3543a57fdbe76245'),\n",
       " ObjectId('5f9dde4a3543a57fdbe76246'),\n",
       " ObjectId('5f9dde4a3543a57fdbe7624b')]"
      ]
     },
     "execution_count": 3,
     "metadata": {},
     "output_type": "execute_result"
    }
   ],
   "source": [
    "len(o_list)\n",
    "n_list = o_list[0:11]\n",
    "n_list"
   ]
  },
  {
   "cell_type": "code",
   "execution_count": 11,
   "metadata": {},
   "outputs": [
    {
     "data": {
      "text/plain": [
       "11"
      ]
     },
     "execution_count": 11,
     "metadata": {},
     "output_type": "execute_result"
    }
   ],
   "source": [
    "len(n_list)"
   ]
  },
  {
   "cell_type": "code",
   "execution_count": 45,
   "metadata": {},
   "outputs": [
    {
     "name": "stdout",
     "output_type": "stream",
     "text": [
      "11\n"
     ]
    }
   ],
   "source": [
    "arr = []\n",
    "for i in range(11):\n",
    "    col = []\n",
    "    doc = db.find_one({\"_id\": n_list[i]})\n",
    "    for j in range(11):\n",
    "        if(i == j):\n",
    "            col.append(0)\n",
    "        else:\n",
    "            col.append(doc[str(n_list[j])])\n",
    "    arr.append(col)\n",
    "print(len(arr))"
   ]
  },
  {
   "cell_type": "code",
   "execution_count": 46,
   "metadata": {},
   "outputs": [
    {
     "name": "stdout",
     "output_type": "stream",
     "text": [
      "[[0, 19.80953114370088, 20.882785325529426, 23.32335034298308, 27.595058636504884, 22.751880857342943, 3.273231794721367, 3.273231794721367, 3.273231794721367, 3.273231794721367, 3.273231794721367], [19.80953114370088, 0, 4.847182831699949, 17.72240782355514, 15.471046172746187, 12.938845383481393, 16.60392629239097, 16.60392629239097, 16.60392629239097, 16.60392629239097, 16.60392629239097], [20.882785325529426, 4.847182831699949, 0, 13.24917901025236, 10.664891208825113, 8.226595706313814, 17.94236426818006, 17.94236426818006, 17.94236426818006, 17.94236426818006, 17.94236426818006], [23.32335034298308, 17.72240782355514, 13.24917901025236, 0, 7.674958017453572, 5.302350676992276, 21.78382377364668, 21.78382377364668, 21.78382377364668, 21.78382377364668, 21.78382377364668], [27.595058636504884, 15.471046172746187, 10.664891208825113, 7.674958017453572, 0, 4.876359828101376, 25.3381186028662, 25.3381186028662, 25.3381186028662, 25.3381186028662, 25.3381186028662], [22.751880857342943, 12.938845383481393, 8.226595706313814, 5.302350676992276, 4.876359828101376, 0, 20.576611602670248, 20.576611602670248, 20.576611602670248, 20.576611602670248, 20.576611602670248], [3.273231794721367, 16.60392629239097, 17.94236426818006, 21.78382377364668, 25.3381186028662, 20.576611602670248, 0, 0.0, 0.0, 0.0, 0.0], [3.273231794721367, 16.60392629239097, 17.94236426818006, 21.78382377364668, 25.3381186028662, 20.576611602670248, 0.0, 0, 0.0, 0.0, 0.0], [3.273231794721367, 16.60392629239097, 17.94236426818006, 21.78382377364668, 25.3381186028662, 20.576611602670248, 0.0, 0.0, 0, 0.0, 0.0], [3.273231794721367, 16.60392629239097, 17.94236426818006, 21.78382377364668, 25.3381186028662, 20.576611602670248, 0.0, 0.0, 0.0, 0, 0.0], [3.273231794721367, 16.60392629239097, 17.94236426818006, 21.78382377364668, 25.3381186028662, 20.576611602670248, 0.0, 0.0, 0.0, 0.0, 0]]\n"
     ]
    }
   ],
   "source": [
    "print(arr)\n"
   ]
  },
  {
   "cell_type": "code",
   "execution_count": 82,
   "metadata": {},
   "outputs": [
    {
     "name": "stdout",
     "output_type": "stream",
     "text": [
      "Objective: 65 miles\n"
     ]
    }
   ],
   "source": [
    "\"\"\"Simple travelling salesman problem between cities.\"\"\"\n",
    "\n",
    "from __future__ import print_function\n",
    "from ortools.constraint_solver import routing_enums_pb2\n",
    "from ortools.constraint_solver import pywrapcp\n",
    "\n",
    "\n",
    "class route_order:\n",
    "    def create_data_model(self, arr):\n",
    "        \"\"\"Stores the data for the problem.\"\"\"\n",
    "        data = {}\n",
    "        data['distance_matrix'] = arr # yapf: disable\n",
    "        data['num_vehicles'] = 1\n",
    "        data['depot'] = 0\n",
    "        return data\n",
    "\n",
    "\n",
    "    def print_solution(self, manager, routing, solution):\n",
    "        \"\"\"Prints solution on console.\"\"\"\n",
    "        print('Objective: {} miles'.format(solution.ObjectiveValue()))\n",
    "        index = routing.Start(0)\n",
    "#         plan_output = 'Route for vehicle 0:\\n'\n",
    "        plan_output = ''\n",
    "        route_distance = 0\n",
    "        while not routing.IsEnd(index):\n",
    "            plan_output += ' {} ->'.format(manager.IndexToNode(index))\n",
    "            previous_index = index\n",
    "            index = solution.Value(routing.NextVar(index))\n",
    "            route_distance += routing.GetArcCostForVehicle(previous_index, index, 0)\n",
    "        plan_output += ' {}\\n'.format(manager.IndexToNode(index))\n",
    "        return plan_output\n",
    "        plan_output += 'Route distance: {}miles\\n'.format(route_distance)\n",
    "\n",
    "\n",
    "    def start(self,arr):\n",
    "        \"\"\"Entry point of the program.\"\"\"\n",
    "        # Instantiate the data problem.\n",
    "        data = self.create_data_model(arr)\n",
    "\n",
    "        # Create the routing index manager.\n",
    "        manager = pywrapcp.RoutingIndexManager(len(data['distance_matrix']),\n",
    "                                               data['num_vehicles'], data['depot'])\n",
    "\n",
    "        # Create Routing Model.\n",
    "        routing = pywrapcp.RoutingModel(manager)\n",
    "\n",
    "\n",
    "        def distance_callback(from_index, to_index):\n",
    "            \"\"\"Returns the distance between the two nodes.\"\"\"\n",
    "            # Convert from routing variable Index to distance matrix NodeIndex.\n",
    "            from_node = manager.IndexToNode(from_index)\n",
    "            to_node = manager.IndexToNode(to_index)\n",
    "            return data['distance_matrix'][from_node][to_node]\n",
    "\n",
    "        transit_callback_index = routing.RegisterTransitCallback(distance_callback)\n",
    "\n",
    "        # Define cost of each arc.\n",
    "        routing.SetArcCostEvaluatorOfAllVehicles(transit_callback_index)\n",
    "\n",
    "        # Setting first solution heuristic.\n",
    "        search_parameters = pywrapcp.DefaultRoutingSearchParameters()\n",
    "        search_parameters.first_solution_strategy = (\n",
    "            routing_enums_pb2.FirstSolutionStrategy.PATH_CHEAPEST_ARC)\n",
    "\n",
    "        # Solve the problem.\n",
    "        solution = routing.SolveWithParameters(search_parameters)\n",
    "\n",
    "        # Print solution on console.\n",
    "        if solution:\n",
    "            h = self.print_solution(manager, routing, solution)\n",
    "            h = h.strip(\"\\n\")\n",
    "            h = h.replace('->' ,'')\n",
    "            li = list(h.split(\" \")) \n",
    "            for i in li:\n",
    "                if i == '':\n",
    "                    li.remove(i)\n",
    "#             li = li.strip('\\n')\n",
    "            return li\n",
    "            \n",
    "\n",
    "            \n",
    "\n",
    "ob = route_order()\n",
    "li = ob.start(arr)"
   ]
  },
  {
   "cell_type": "code",
   "execution_count": 83,
   "metadata": {},
   "outputs": [
    {
     "name": "stdout",
     "output_type": "stream",
     "text": [
      "['0', '10', '9', '8', '7', '6', '1', '2', '5', '4', '3', '0']\n"
     ]
    }
   ],
   "source": [
    "print(li)"
   ]
  },
  {
   "cell_type": "code",
   "execution_count": 85,
   "metadata": {},
   "outputs": [
    {
     "data": {
      "text/plain": [
       "['start',\n",
       " ObjectId('5f9dde4a3543a57fdbe76225'),\n",
       " ObjectId('5f9dde4a3543a57fdbe76227'),\n",
       " ObjectId('5f9dde4a3543a57fdbe76228'),\n",
       " ObjectId('5f9dde4a3543a57fdbe76234'),\n",
       " ObjectId('5f9dde4a3543a57fdbe76237'),\n",
       " ObjectId('5f9dde4a3543a57fdbe76238'),\n",
       " ObjectId('5f9dde4a3543a57fdbe76240'),\n",
       " ObjectId('5f9dde4a3543a57fdbe76245'),\n",
       " ObjectId('5f9dde4a3543a57fdbe76246'),\n",
       " ObjectId('5f9dde4a3543a57fdbe7624b')]"
      ]
     },
     "execution_count": 85,
     "metadata": {},
     "output_type": "execute_result"
    }
   ],
   "source": [
    "n_list"
   ]
  },
  {
   "cell_type": "code",
   "execution_count": 86,
   "metadata": {},
   "outputs": [
    {
     "data": {
      "text/plain": [
       "11"
      ]
     },
     "execution_count": 86,
     "metadata": {},
     "output_type": "execute_result"
    }
   ],
   "source": [
    "final_list = []\n",
    "for i in range(len(n_list)):\n",
    "    final_list.append(n_list[int(li[i])])\n",
    "len(n_list)"
   ]
  },
  {
   "cell_type": "code",
   "execution_count": 87,
   "metadata": {},
   "outputs": [
    {
     "data": {
      "text/plain": [
       "['start',\n",
       " ObjectId('5f9dde4a3543a57fdbe7624b'),\n",
       " ObjectId('5f9dde4a3543a57fdbe76246'),\n",
       " ObjectId('5f9dde4a3543a57fdbe76245'),\n",
       " ObjectId('5f9dde4a3543a57fdbe76240'),\n",
       " ObjectId('5f9dde4a3543a57fdbe76238'),\n",
       " ObjectId('5f9dde4a3543a57fdbe76225'),\n",
       " ObjectId('5f9dde4a3543a57fdbe76227'),\n",
       " ObjectId('5f9dde4a3543a57fdbe76237'),\n",
       " ObjectId('5f9dde4a3543a57fdbe76234'),\n",
       " ObjectId('5f9dde4a3543a57fdbe76228')]"
      ]
     },
     "execution_count": 87,
     "metadata": {},
     "output_type": "execute_result"
    }
   ],
   "source": [
    "final_list\n",
    "# print(len(final_list))"
   ]
  },
  {
   "cell_type": "code",
   "execution_count": 88,
   "metadata": {},
   "outputs": [],
   "source": [
    "import pymongo\n",
    "from bson import ObjectId\n",
    "myclient = pymongo.MongoClient(\"mongodb://localhost:27017/\")\n",
    "o_db = myclient[\"Orders\"]\n",
    "orders = o_db[\"dummy 2020-11-01 3 29\"]\n",
    "\n",
    "a_db  = myclient[\"assign\"]\n",
    "assign = a_db[\"dummy 2020-11-01 3 29\"]\n",
    "\n",
    "o_town = myclient[\"coordinates\"]\n",
    "towns = o_town[\"town\"]\n"
   ]
  },
  {
   "cell_type": "code",
   "execution_count": 89,
   "metadata": {},
   "outputs": [
    {
     "data": {
      "text/plain": [
       "11"
      ]
     },
     "execution_count": 89,
     "metadata": {},
     "output_type": "execute_result"
    }
   ],
   "source": [
    "final_list\n",
    "len(final_list)"
   ]
  },
  {
   "cell_type": "code",
   "execution_count": 90,
   "metadata": {},
   "outputs": [
    {
     "data": {
      "text/plain": [
       "['start',\n",
       " ObjectId('5f9dde4a3543a57fdbe7624b'),\n",
       " ObjectId('5f9dde4a3543a57fdbe76246'),\n",
       " ObjectId('5f9dde4a3543a57fdbe76245'),\n",
       " ObjectId('5f9dde4a3543a57fdbe76240'),\n",
       " ObjectId('5f9dde4a3543a57fdbe76238'),\n",
       " ObjectId('5f9dde4a3543a57fdbe76225'),\n",
       " ObjectId('5f9dde4a3543a57fdbe76227'),\n",
       " ObjectId('5f9dde4a3543a57fdbe76237'),\n",
       " ObjectId('5f9dde4a3543a57fdbe76234'),\n",
       " ObjectId('5f9dde4a3543a57fdbe76228')]"
      ]
     },
     "execution_count": 90,
     "metadata": {},
     "output_type": "execute_result"
    }
   ],
   "source": [
    "final_list\n"
   ]
  },
  {
   "cell_type": "code",
   "execution_count": 91,
   "metadata": {},
   "outputs": [
    {
     "name": "stdout",
     "output_type": "stream",
     "text": [
      "[(28.6519, 77.2315), (28.65381, 77.22897), (28.65381, 77.22897), (28.65381, 77.22897), (28.65381, 77.22897), (28.65381, 77.22897), (28.5207056, 77.3068719), (28.4953489, 77.2665293), (28.4719176, 77.1868107), (28.427953, 77.188803), (28.476491, 77.1329132)]\n",
      "28.476491\n"
     ]
    }
   ],
   "source": [
    "import requests\n",
    "res = requests.get('https://ipinfo.io/')\n",
    "data = res.json()\n",
    "\n",
    "city = data['city']\n",
    "\n",
    "location = data['loc'].split(',')\n",
    "latitude = float(location[0])\n",
    "longitude = float(location[1])\n",
    "\n",
    "cor1 = (latitude, longitude)\n",
    "cor_list = [cor1]\n",
    "\n",
    "final_list.pop(0)\n",
    "# min_lat = latitude\n",
    "# min_long = longitude\n",
    "# max_lat = latitude\n",
    "# max_long = longitude\n",
    "\n",
    "for x in final_list:\n",
    "    doc = orders.find_one({\"_id\": x})\n",
    "    address = doc[\"Town\"]\n",
    "    cord = towns.find_one({\"town\": address})\n",
    "#     print(cord)\n",
    "    lat = cord[\"lat\"]\n",
    "    long = cord[\"long\"]\n",
    "#     min_lat = min(lat, min_lat)\n",
    "#     max_lat = min(lat, max_lat)\n",
    "#     min_long  = max(long, min_long)\n",
    "#     max_long = max(long, max_long)  \n",
    "#     latitude += lat\n",
    "#     longitude += longitude\n",
    "    cor_list.append((lat, long))\n",
    "    \n",
    "\n",
    "# print(len(cor_list))\n",
    "print(cor_list)\n",
    "\n",
    "print(lat)\n",
    "# # min_lat = min()\n",
    "# center_x = min_lat + ((max_lat - min_lat) / 2);\n",
    "# center_y = min_long + ((max_long - min_long) / 2);\n",
    "\n"
   ]
  },
  {
   "cell_type": "code",
   "execution_count": 92,
   "metadata": {},
   "outputs": [],
   "source": [
    "len(cor_list)\n",
    "len(final_list)\n",
    "final_list.insert(0,\"start\")"
   ]
  },
  {
   "cell_type": "code",
   "execution_count": 94,
   "metadata": {},
   "outputs": [
    {
     "data": {
      "text/plain": [
       "11"
      ]
     },
     "execution_count": 94,
     "metadata": {},
     "output_type": "execute_result"
    }
   ],
   "source": [
    "len(final_list)"
   ]
  },
  {
   "cell_type": "code",
   "execution_count": 96,
   "metadata": {
    "scrolled": false
   },
   "outputs": [
    {
     "data": {
      "text/plain": [
       "[(28.6519, 77.2315),\n",
       " (28.65381, 77.22897),\n",
       " (28.65381, 77.22897),\n",
       " (28.65381, 77.22897),\n",
       " (28.65381, 77.22897),\n",
       " (28.65381, 77.22897),\n",
       " (28.5207056, 77.3068719),\n",
       " (28.4953489, 77.2665293),\n",
       " (28.4719176, 77.1868107),\n",
       " (28.427953, 77.188803),\n",
       " (28.476491, 77.1329132)]"
      ]
     },
     "execution_count": 96,
     "metadata": {},
     "output_type": "execute_result"
    }
   ],
   "source": [
    "cor_list"
   ]
  },
  {
   "cell_type": "code",
   "execution_count": 4,
   "metadata": {},
   "outputs": [
    {
     "ename": "NameError",
     "evalue": "name 'latitude' is not defined",
     "output_type": "error",
     "traceback": [
      "\u001b[1;31m---------------------------------------------------------------------------\u001b[0m",
      "\u001b[1;31mNameError\u001b[0m                                 Traceback (most recent call last)",
      "\u001b[1;32m<ipython-input-4-464786ab4db5>\u001b[0m in \u001b[0;36m<module>\u001b[1;34m\u001b[0m\n\u001b[0;32m      1\u001b[0m \u001b[1;32mimport\u001b[0m \u001b[0mgmplot\u001b[0m\u001b[1;33m\u001b[0m\u001b[1;33m\u001b[0m\u001b[0m\n\u001b[0;32m      2\u001b[0m \u001b[0mapikey\u001b[0m \u001b[1;33m=\u001b[0m \u001b[1;34m''\u001b[0m \u001b[1;31m# (your API key here)\u001b[0m\u001b[1;33m\u001b[0m\u001b[1;33m\u001b[0m\u001b[0m\n\u001b[1;32m----> 3\u001b[1;33m \u001b[0mgmap3\u001b[0m \u001b[1;33m=\u001b[0m \u001b[0mgmplot\u001b[0m\u001b[1;33m.\u001b[0m\u001b[0mGoogleMapPlotter\u001b[0m\u001b[1;33m(\u001b[0m\u001b[0mlatitude\u001b[0m\u001b[1;33m,\u001b[0m \u001b[0mlongitude\u001b[0m\u001b[1;33m,\u001b[0m \u001b[1;36m15\u001b[0m\u001b[1;33m)\u001b[0m\u001b[1;33m\u001b[0m\u001b[1;33m\u001b[0m\u001b[0m\n\u001b[0m\u001b[0;32m      4\u001b[0m \u001b[1;33m\u001b[0m\u001b[0m\n\u001b[0;32m      5\u001b[0m \u001b[0mattractions\u001b[0m \u001b[1;33m=\u001b[0m \u001b[0mzip\u001b[0m\u001b[1;33m(\u001b[0m\u001b[1;33m*\u001b[0m\u001b[0mcor_list\u001b[0m\u001b[1;33m)\u001b[0m\u001b[1;33m\u001b[0m\u001b[1;33m\u001b[0m\u001b[0m\n",
      "\u001b[1;31mNameError\u001b[0m: name 'latitude' is not defined"
     ]
    }
   ],
   "source": [
    "import gmplot\n",
    "apikey = '' # (your API key here)\n",
    "gmap3 = gmplot.GoogleMapPlotter(latitude, longitude, 15)\n",
    "\n",
    "attractions = zip(*cor_list)\n",
    "Charminar_top_attraction_lats, Charminar_top_attraction_lons = zip(*cor_list)\n",
    "\n",
    "\n",
    "gmap3.scatter(\n",
    "    *attractions,\n",
    "    color=['red']*len(cor_list),\n",
    "    s=60,\n",
    "    ew=2,\n",
    "    marker = [True] * len(cor_list),\n",
    "    \n",
    "    title=[i for i in range(0,11)]\n",
    "#     label = [str(x) for x in final_list ]\n",
    ")\n",
    "gmap3.plot(Charminar_top_attraction_lats, Charminar_top_attraction_lons, 'cornflowerblue', edge_width = 4.0)\n",
    "i = 0\n",
    "for x, y in cor_list:\n",
    "    gmap3.text(x, y, final_list[i], color='white')\n",
    "    i = i+1\n",
    "    \n",
    "path = zip(*[(latitude, longitude), cor_list[9]])\n",
    "gmap3.plot(*path, edge_width=1, color='cornflowerblue')\n",
    "gmap3.draw('map3.html')"
   ]
  },
  {
   "cell_type": "code",
   "execution_count": 5,
   "metadata": {},
   "outputs": [],
   "source": [
    "import gmplot\n",
    "apikey = '' # (your API key here)\n",
    "gmap = gmplot.GoogleMapPlotter(37.766956, -122.438481, 13, apikey=apikey)\n",
    "\n",
    "path = zip(*[\n",
    "    (37.773097, -122.471789),\n",
    "    (37.785920, -122.472693),\n",
    "    (37.787815, -122.472178),\n",
    "    (37.791430, -122.469763),\n",
    "    (37.792547, -122.469624),\n",
    "    (37.800724, -122.469460),\n",
    "    \n",
    "])\n",
    "\n",
    "gmap.plot(*path, edge_width=7, color='red')\n",
    "gmap.draw('map.html')"
   ]
  },
  {
   "cell_type": "code",
   "execution_count": 8,
   "metadata": {},
   "outputs": [],
   "source": [
    "import gmplot\n",
    "apikey = '' # (your API key here)\n",
    "gmap = gmplot.GoogleMapPlotter(37.766956, -122.479481, 15, apikey=apikey)\n",
    "\n",
    "attractions = zip(*[\n",
    "    (37.769901, -122.498331),\n",
    "    (37.768645, -122.475328),\n",
    "    (37.771478, -122.468677),\n",
    "    (37.769867, -122.466102),\n",
    "    (37.767187, -122.467496),\n",
    "    (37.770104, -122.470436),\n",
    "    (28.6764, 77.2074), (28.65381, 77.22897), (28.65381, 77.22897)\n",
    "])\n",
    "\n",
    "gmap.scatter(\n",
    "    *attractions,\n",
    "    color=['red']*9,\n",
    "    s=60,\n",
    "    ew=2,\n",
    "    marker=[True]*9,\n",
    "#     symbol=[None, None, 'o', None, 'x', '+'],\n",
    "#     title=['First', 'Second', None, 'Third', None, None],\n",
    "#     label=['A', 'B', 'C', 'D', 'E', 'F']\n",
    ")\n",
    "\n",
    "gmap.draw('map.html')"
   ]
  },
  {
   "cell_type": "code",
   "execution_count": 159,
   "metadata": {},
   "outputs": [
    {
     "data": {
      "text/plain": [
       "['start',\n",
       " 'start',\n",
       " 'start',\n",
       " ObjectId('5f9dde4a3543a57fdbe76246'),\n",
       " ObjectId('5f9dde4a3543a57fdbe76245'),\n",
       " ObjectId('5f9dde4a3543a57fdbe76240'),\n",
       " ObjectId('5f9dde4a3543a57fdbe76238'),\n",
       " ObjectId('5f9dde4a3543a57fdbe76237'),\n",
       " ObjectId('5f9dde4a3543a57fdbe76234'),\n",
       " ObjectId('5f9dde4a3543a57fdbe76228'),\n",
       " ObjectId('5f9dde4a3543a57fdbe76227'),\n",
       " ObjectId('5f9dde4a3543a57fdbe76225')]"
      ]
     },
     "execution_count": 159,
     "metadata": {},
     "output_type": "execute_result"
    }
   ],
   "source": []
  },
  {
   "cell_type": "code",
   "execution_count": 28,
   "metadata": {},
   "outputs": [
    {
     "name": "stdout",
     "output_type": "stream",
     "text": [
      "Objective: 7293 miles\n",
      "Route for vehicle 0:\n",
      " 0 -> 7 -> 2 -> 3 -> 4 -> 12 -> 6 -> 8 -> 1 -> 11 -> 10 -> 5 -> 9 -> 0\n",
      "\n"
     ]
    }
   ],
   "source": []
  },
  {
   "cell_type": "code",
   "execution_count": 9,
   "metadata": {},
   "outputs": [
    {
     "ename": "FileNotFoundError",
     "evalue": "[Errno 2] No such file or directory: 'Path of the file'",
     "output_type": "error",
     "traceback": [
      "\u001b[1;31m---------------------------------------------------------------------------\u001b[0m",
      "\u001b[1;31mFileNotFoundError\u001b[0m                         Traceback (most recent call last)",
      "\u001b[1;32m<ipython-input-9-f97e40280ec6>\u001b[0m in \u001b[0;36m<module>\u001b[1;34m\u001b[0m\n\u001b[0;32m     32\u001b[0m \u001b[1;31m# open the file to be sent\u001b[0m\u001b[1;33m\u001b[0m\u001b[1;33m\u001b[0m\u001b[1;33m\u001b[0m\u001b[0m\n\u001b[0;32m     33\u001b[0m \u001b[0mfilename\u001b[0m \u001b[1;33m=\u001b[0m \u001b[1;34m\"File_name_with_extension\"\u001b[0m\u001b[1;33m\u001b[0m\u001b[1;33m\u001b[0m\u001b[0m\n\u001b[1;32m---> 34\u001b[1;33m \u001b[0mattachment\u001b[0m \u001b[1;33m=\u001b[0m \u001b[0mopen\u001b[0m\u001b[1;33m(\u001b[0m\u001b[1;34m\"Path of the file\"\u001b[0m\u001b[1;33m,\u001b[0m \u001b[1;34m\"rb\"\u001b[0m\u001b[1;33m)\u001b[0m\u001b[1;33m\u001b[0m\u001b[1;33m\u001b[0m\u001b[0m\n\u001b[0m\u001b[0;32m     35\u001b[0m \u001b[1;33m\u001b[0m\u001b[0m\n\u001b[0;32m     36\u001b[0m \u001b[1;31m# instance of MIMEBase and named as p\u001b[0m\u001b[1;33m\u001b[0m\u001b[1;33m\u001b[0m\u001b[1;33m\u001b[0m\u001b[0m\n",
      "\u001b[1;31mFileNotFoundError\u001b[0m: [Errno 2] No such file or directory: 'Path of the file'"
     ]
    }
   ],
   "source": [
    "# Python code to illustrate Sending mail with attachments \n",
    "# from your Gmail account \n",
    "\n",
    "# libraries to be imported \n",
    "import smtplib \n",
    "from email.mime.multipart import MIMEMultipart \n",
    "from email.mime.text import MIMEText \n",
    "from email.mime.base import MIMEBase \n",
    "from email import encoders \n",
    "\n",
    "fromaddr = \"# Python code to illustrate Sending mail with attachments \n",
    "# from your Gmail account \n",
    "\n",
    "# libraries to be imported \n",
    "import smtplib \n",
    "from email.mime.multipart import MIMEMultipart \n",
    "from email.mime.text import MIMEText \n",
    "from email.mime.base import MIMEBase \n",
    "from email import encoders \n",
    "\n",
    "fromaddr = \"crazypioneers@gmail.com\"\n",
    "toaddr = \"EMAIL address of the receiver\"\n",
    "\n",
    "# instance of MIMEMultipart \n",
    "msg = MIMEMultipart() \n",
    "\n",
    "# storing the senders email address \n",
    "msg['From'] = fromaddr \n",
    "\n",
    "# storing the receivers email address \n",
    "msg['To'] = toaddr \n",
    "\n",
    "# storing the subject \n",
    "msg['Subject'] = \"Subject of the Mail\"\n",
    "\n",
    "# string to store the body of the mail \n",
    "body = \"Body_of_the_mail\"\n",
    "\n",
    "# attach the body with the msg instance \n",
    "msg.attach(MIMEText(body, 'plain')) \n",
    "\n",
    "# open the file to be sent \n",
    "filename = \"File_name_with_extension\"\n",
    "attachment = open(\"Path of the file\", \"rb\") \n",
    "\n",
    "# instance of MIMEBase and named as p \n",
    "p = MIMEBase('application', 'octet-stream') \n",
    "\n",
    "# To change the payload into encoded form \n",
    "p.set_payload((attachment).read()) \n",
    "\n",
    "# encode into base64 \n",
    "encoders.encode_base64(p) \n",
    "\n",
    "p.add_header('Content-Disposition', \"attachment; filename= %s\" % filename) \n",
    "\n",
    "# attach the instance 'p' to instance 'msg' \n",
    "msg.attach(p) \n",
    "\n",
    "# creates SMTP session \n",
    "s = smtplib.SMTP('smtp.gmail.com', 587) \n",
    "\n",
    "# start TLS for security \n",
    "s.starttls() \n",
    "\n",
    "# Authentication \n",
    "s.login(fromaddr, \"Password_of_the_sender\") \n",
    "\n",
    "# Converts the Multipart msg into a string \n",
    "text = msg.as_string() \n",
    "\n",
    "# sending the mail \n",
    "s.sendmail(fromaddr, toaddr, text) \n",
    "\n",
    "# terminating the session \n",
    "s.quit() \n",
    "\"\n",
    "toaddr = \"EMAIL address of the receiver\"\n",
    "\n",
    "# instance of MIMEMultipart \n",
    "msg = MIMEMultipart() \n",
    "\n",
    "# storing the senders email address \n",
    "msg['From'] = fromaddr \n",
    "\n",
    "# storing the receivers email address \n",
    "msg['To'] = toaddr \n",
    "\n",
    "# storing the subject \n",
    "msg['Subject'] = \"Subject of the Mail\"\n",
    "\n",
    "# string to store the body of the mail \n",
    "body = \"Body_of_the_mail\"\n",
    "\n",
    "# attach the body with the msg instance \n",
    "msg.attach(MIMEText(body, 'plain')) \n",
    "\n",
    "# open the file to be sent \n",
    "filename = \"File_name_with_extension\"\n",
    "attachment = open(\"Path of the file\", \"rb\") \n",
    "\n",
    "# instance of MIMEBase and named as p \n",
    "p = MIMEBase('application', 'octet-stream') \n",
    "\n",
    "# To change the payload into encoded form \n",
    "p.set_payload((attachment).read()) \n",
    "\n",
    "# encode into base64 \n",
    "encoders.encode_base64(p) \n",
    "\n",
    "p.add_header('Content-Disposition', \"attachment; filename= %s\" % filename) \n",
    "\n",
    "# attach the instance 'p' to instance 'msg' \n",
    "msg.attach(p) \n",
    "\n",
    "# creates SMTP session \n",
    "s = smtplib.SMTP('smtp.gmail.com', 587) \n",
    "\n",
    "# start TLS for security \n",
    "s.starttls() \n",
    "\n",
    "# Authentication \n",
    "s.login(fromaddr, \"Password_of_the_sender\") \n",
    "\n",
    "# Converts the Multipart msg into a string \n",
    "text = msg.as_string() \n",
    "\n",
    "# sending the mail \n",
    "s.sendmail(fromaddr, toaddr, text) \n",
    "\n",
    "# terminating the session \n",
    "s.quit() \n"
   ]
  },
  {
   "cell_type": "code",
   "execution_count": 12,
   "metadata": {},
   "outputs": [],
   "source": []
  },
  {
   "cell_type": "code",
   "execution_count": 2,
   "metadata": {},
   "outputs": [
    {
     "ename": "NameError",
     "evalue": "name 'f3' is not defined",
     "output_type": "error",
     "traceback": [
      "\u001b[1;31m---------------------------------------------------------------------------\u001b[0m",
      "\u001b[1;31mNameError\u001b[0m                                 Traceback (most recent call last)",
      "\u001b[1;32m<ipython-input-2-6d18bb5ba02c>\u001b[0m in \u001b[0;36m<module>\u001b[1;34m\u001b[0m\n\u001b[0;32m     23\u001b[0m \u001b[1;33m\u001b[0m\u001b[0m\n\u001b[0;32m     24\u001b[0m \u001b[1;33m\u001b[0m\u001b[0m\n\u001b[1;32m---> 25\u001b[1;33m \u001b[1;32mfor\u001b[0m \u001b[0mframe\u001b[0m \u001b[1;32min\u001b[0m \u001b[1;33m(\u001b[0m\u001b[0mf1\u001b[0m\u001b[1;33m,\u001b[0m \u001b[0mf2\u001b[0m\u001b[1;33m,\u001b[0m \u001b[0mf3\u001b[0m\u001b[1;33m,\u001b[0m \u001b[0mf4\u001b[0m\u001b[1;33m)\u001b[0m\u001b[1;33m:\u001b[0m\u001b[1;33m\u001b[0m\u001b[1;33m\u001b[0m\u001b[0m\n\u001b[0m\u001b[0;32m     26\u001b[0m     \u001b[0mframe\u001b[0m\u001b[1;33m.\u001b[0m\u001b[0mgrid\u001b[0m\u001b[1;33m(\u001b[0m\u001b[0mrow\u001b[0m\u001b[1;33m=\u001b[0m\u001b[1;36m0\u001b[0m\u001b[1;33m,\u001b[0m \u001b[0mcolumn\u001b[0m\u001b[1;33m=\u001b[0m\u001b[1;36m0\u001b[0m\u001b[1;33m,\u001b[0m \u001b[0msticky\u001b[0m\u001b[1;33m=\u001b[0m\u001b[1;34m'news'\u001b[0m\u001b[1;33m)\u001b[0m\u001b[1;33m\u001b[0m\u001b[1;33m\u001b[0m\u001b[0m\n\u001b[0;32m     27\u001b[0m \u001b[1;33m\u001b[0m\u001b[0m\n",
      "\u001b[1;31mNameError\u001b[0m: name 'f3' is not defined"
     ]
    }
   ],
   "source": [
    "# importing tkinter and tkinter.ttk \n",
    "# and all their functions and classes \n",
    "from tkinter import *\n",
    "from tkinter.ttk import *\n",
    "from threading import Thread\n",
    "import numpy as np \n",
    "import os\n",
    "from backend import employee_data as e_data\n",
    "\n",
    "\n",
    "# importing askopenfile function \n",
    "# from class filedialog \n",
    "from tkinter.filedialog import askopenfile \n",
    "def raise_frame(frame):\n",
    "    frame.tkraise()\n",
    "\n",
    "root = Tk() \n",
    "root.title(\"Delivery Route Planner\")\n",
    "root.geometry('500x500') \n",
    "\n",
    "f1 = Frame(root)\n",
    "f2 = Frame(root)\n",
    "\n",
    "\n",
    "for frame in (f1, f2, f3, f4):\n",
    "    frame.grid(row=0, column=0, sticky='news') \n",
    "\t\n",
    "class upload_employee_file:\n",
    "\n",
    "    def __init__(self):\n",
    "        self.userId  = \"dummy\"\n",
    "\n",
    "    def open_employee(self):\n",
    "        root.filename = askopenfile(title =\"select orders file\", filetypes = [(\"xlsx files\",\"*.xlsx\")])\n",
    "        my_label = Label(root, text = root.filename.name).pack()\n",
    "        self.file_name = str(root.filename.name)\n",
    "\n",
    "    def move_to_next_frame(self):\n",
    "        e = e_data.Employee_database(self.file_name, self.userId)\n",
    "        e.store_details()\n",
    "        os.system(\"python upload_order.py\")\n",
    "       \n",
    "\t\n",
    "\t\n",
    "ob = upload_employee_file()\n",
    "btn = Button(root, text ='upload employee list', command = lambda: ob.open_employee())\n",
    "btn.pack(side='left', ipadx=20, padx=30)\n",
    "\n",
    "\n",
    "btn2 = Button(root, text= \"next\", command = lambda: [root.destroy(), ob.move_to_next_frame()])\n",
    "btn2.pack(side='right', ipadx=20, padx=30)\n",
    "\n",
    "\n",
    "try:\n",
    "\troot.mainloop()\n",
    "except AssertionError as error:\n",
    "\tprint(error)\n",
    "\t\n",
    "\n",
    "\n",
    "\n"
   ]
  },
  {
   "cell_type": "code",
   "execution_count": 2,
   "metadata": {},
   "outputs": [],
   "source": [
    "from tkinter import *\n",
    "from tkinter.ttk import *\n",
    "from threading import Thread\n",
    "import numpy as np \n",
    "import os\n",
    "from backend import employee_data as e_data\n",
    "import backend.storing_orders as sd\n",
    "from tkinter.filedialog import askopenfile \n",
    "import threading\n",
    "\n",
    "\n",
    "    \n",
    "\n",
    "\n",
    "\n",
    "\n",
    "class App(threading.Thread):\n",
    "    \n",
    "\n",
    "    def __init__(self):\n",
    "        self.userId  = \"dummy\"\n",
    "        threading.Thread.__init__(self)\n",
    "        self.start()\n",
    "\n",
    "\n",
    "    def open_employee(self):\n",
    "        self.root.filename = askopenfile(title =\"select orders file\", filetypes = [(\"xlsx files\",\"*.xlsx\")])\n",
    "        my_label = Label(self.root, text = self.root.filename.name)\n",
    "        self.file_name = str(self.root.filename.name)\n",
    "\n",
    "    def move_to_next_frame(self):\n",
    "        e = e_data.Employee_database(self.file_name, self.userId)\n",
    "        e.store_details()\n",
    "#         threading.Thread(target=e.store_details).start()\n",
    "#         os.system(\"python upload_order.py\")\n",
    "\n",
    "\n",
    "\n",
    "    \n",
    "\n",
    "    def store(self,file_name, userId):\n",
    "        ob1 = sd.store_orders()\n",
    "        # threading.Thread(target=ob1.get_file(file_name, userId)).start()\n",
    "        ob1.get_file(file_name, userId)\n",
    "\n",
    "\n",
    "    def open_orders(self):\n",
    "        self.root.filename = askopenfile(title =\"select orders file\", filetypes = [(\"xlsx files\",\"*.xlsx\")])\n",
    "        my_label = Label(self.root, text = self.root.filename)\n",
    "        self.file_name = str(self.root.filename.name)\n",
    "\n",
    "\n",
    "    def move_to_next_frame(self):\n",
    "        # threading.Thread(target=self.store(self.filename, self.userId)).start()\n",
    "        self.store(self.file_name, self.userId)\n",
    "            \n",
    "            \n",
    "        \n",
    "   \n",
    "    def callback(self):\n",
    "        self.root.quit()\n",
    "\n",
    "    def run(self):\n",
    "        self.root = Tk()\n",
    "        self.root.title(\"Delivery route Planner\")\n",
    "        self.root.geometry('500x500')\n",
    "\n",
    "        f1 = Frame(self.root)\n",
    "        f2 = Frame(self.root)\n",
    "        f3 = Frame(self.root)\n",
    "\n",
    "        def raise_frame(frame):\n",
    "            frame.tkraise()\n",
    "        for frame in (f1, f2,f3):\n",
    "            frame.grid(row=0, column=0, sticky='news')\n",
    "            \n",
    "        \n",
    "        btn = Button(f1, text ='upload employee list', command = lambda: self.open_employee())\n",
    "        btn.pack(side='left', padx=20, pady=30)\n",
    "\n",
    "\n",
    "\n",
    "        btn2 = Button(f1, text= \"next\", command = lambda: raise_frame(f2) )\n",
    "        btn2.pack(side='right', padx=20, pady=30)\n",
    "\n",
    "\n",
    "\n",
    "        \n",
    "        btn = Button(f2, text ='upload order list', command = lambda:self.open_orders())\n",
    "        btn.pack(side='left', ipadx=20, padx=30)\n",
    "\n",
    "        btn2 = Button(f2, text= \"next\", command = lambda:[self.move_to_next_frame(),raise_frame(f3)])\n",
    "        btn2.pack(side='right', ipadx=20, padx=30)\n",
    "\n",
    "\n",
    "        btn2 = Button(f3, text= \"GO TO frame 1\", command = lambda: raise_frame(f1) )\n",
    "        btn2.pack(side='right', padx=20, pady=30)\n",
    "        \n",
    "        raise_frame(f1)\n",
    "        try:\n",
    "            self.root.mainloop()\n",
    "        except AssertionError as error:\n",
    "            print(error)\n",
    "\n",
    "\n",
    "\n",
    "app = App()\n",
    "        \n",
    "\n",
    "\n",
    "\n",
    "\n",
    "\n",
    "\n",
    "\n",
    "\n",
    "\n",
    "\n"
   ]
  },
  {
   "cell_type": "code",
   "execution_count": 14,
   "metadata": {},
   "outputs": [
    {
     "name": "stdout",
     "output_type": "stream",
     "text": [
      "da\n",
      "D:/projects/Delivery_route_planner/sample/employee.xlsx\n",
      "D:/projects/Delivery_route_planner/sample/order_list.xlsx\n"
     ]
    }
   ],
   "source": [
    "from tkinter import *\n",
    "from tkinter.ttk import *\n",
    "from threading import Thread\n",
    "import numpy as np \n",
    "import os\n",
    "from backend import employee_data as e_data\n",
    "import backend.storing_orders as sd\n",
    "from tkinter.filedialog import askopenfile \n",
    "import threading\n",
    "\n",
    "employee_file = \"employee\"\n",
    "order_file = \"order\"\n",
    "\n",
    "root = Tk()\n",
    "\n",
    "root['background']='#856ff8'\n",
    "root.title(\"Delivery route Planner\")\n",
    "root.geometry('600x600')\n",
    "\n",
    "\n",
    "\n",
    "\n",
    "\n",
    "f1 = Frame(root)\n",
    "f2 = Frame(root)\n",
    "f3 = Frame(root)\n",
    "\n",
    "def raise_frame(frame):\n",
    "    frame.tkraise()\n",
    "\n",
    "\n",
    "\n",
    "for frame in (f1, f2):\n",
    "    frame.grid(row=0, column=0, sticky='news')\n",
    "\n",
    "userId = \"dummy\"\n",
    "def open_employee():\n",
    "    print(\"da\")\n",
    "    root.filename = askopenfile(title =\"select employee file\", filetypes = [(\"xlsx files\",\"*.xlsx\")])\n",
    "    my_label = Label(root, text = root.filename.name)\n",
    "    global employee_file\n",
    "    employee_file = str(root.filename.name)\n",
    "    \n",
    "        \n",
    "\n",
    "def open_orders():\n",
    "    root.filename = askopenfile(title =\"select orders file\", filetypes = [(\"xlsx files\",\"*.xlsx\")])\n",
    "    my_label = Label(root, text = root.filename)\n",
    "    \n",
    "    global order_file\n",
    "    order_file = str(root.filename.name)\n",
    "\n",
    "    \n",
    "btn = Button(f1, text ='upload employee list', command = lambda: open_employee())\n",
    "btn.pack(side='left', padx=30, pady=10)\n",
    "\n",
    "btn2 = Button(f1, text ='upload order list', command = lambda:open_orders())\n",
    "btn2.pack(side='left', ipadx=50, padx=80)\n",
    "\n",
    "\n",
    "btn3 = Button(f1, text= \"next\", command = lambda: raise_frame(f2) )\n",
    "btn3.pack(side='left', padx=10, pady=50)\n",
    "\n",
    "\n",
    "btn2 = Button(f2, text= \"EXIT\", command = lambda: root.destroy()) \n",
    "btn2.pack(side='left', padx=50, pady=50)\n",
    "\n",
    "\n",
    "\n",
    "raise_frame(f1)\n",
    "try:\n",
    "\troot.mainloop()\n",
    "except AssertionError as error:\n",
    "\tprint(error)\n",
    "    \n",
    "print(employee_file)\n",
    "print(order_file)"
   ]
  },
  {
   "cell_type": "code",
   "execution_count": null,
   "metadata": {},
   "outputs": [],
   "source": []
  }
 ],
 "metadata": {
  "kernelspec": {
   "display_name": "Python 3",
   "language": "python",
   "name": "python3"
  },
  "language_info": {
   "codemirror_mode": {
    "name": "ipython",
    "version": 3
   },
   "file_extension": ".py",
   "mimetype": "text/x-python",
   "name": "python",
   "nbconvert_exporter": "python",
   "pygments_lexer": "ipython3",
   "version": "3.8.3"
  }
 },
 "nbformat": 4,
 "nbformat_minor": 4
}
