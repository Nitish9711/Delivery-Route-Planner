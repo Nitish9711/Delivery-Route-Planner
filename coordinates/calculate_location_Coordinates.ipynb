{
 "cells": [
  {
   "cell_type": "code",
   "execution_count": 44,
   "metadata": {},
   "outputs": [],
   "source": [
    "import pandas as pd\n",
    "# pandas.__version__\n"
   ]
  },
  {
   "cell_type": "code",
   "execution_count": 45,
   "metadata": {},
   "outputs": [
    {
     "data": {
      "text/html": [
       "<style type=\"text/css\">\n",
       "table.dataframe td, table.dataframe th {\n",
       "    border: 1px  black solid !important;\n",
       "  color: black !important;\n",
       "}\n",
       "</style>\n"
      ],
      "text/plain": [
       "<IPython.core.display.HTML object>"
      ]
     },
     "metadata": {},
     "output_type": "display_data"
    }
   ],
   "source": [
    "%%HTML\n",
    "<style type=\"text/css\">\n",
    "table.dataframe td, table.dataframe th {\n",
    "    border: 1px  black solid !important;\n",
    "  color: black !important;\n",
    "}\n",
    "</style>\n"
   ]
  },
  {
   "cell_type": "code",
   "execution_count": 46,
   "metadata": {},
   "outputs": [
    {
     "data": {
      "text/html": [
       "<div>\n",
       "<style scoped>\n",
       "    .dataframe tbody tr th:only-of-type {\n",
       "        vertical-align: middle;\n",
       "    }\n",
       "\n",
       "    .dataframe tbody tr th {\n",
       "        vertical-align: top;\n",
       "    }\n",
       "\n",
       "    .dataframe thead th {\n",
       "        text-align: right;\n",
       "    }\n",
       "</style>\n",
       "<table border=\"1\" class=\"dataframe\">\n",
       "  <thead>\n",
       "    <tr style=\"text-align: right;\">\n",
       "      <th></th>\n",
       "      <th>Name</th>\n",
       "      <th>District</th>\n",
       "      <th>latitude</th>\n",
       "      <th>longitude</th>\n",
       "    </tr>\n",
       "  </thead>\n",
       "  <tbody>\n",
       "    <tr>\n",
       "      <th>0</th>\n",
       "      <td>Aali</td>\n",
       "      <td>South</td>\n",
       "      <td>28.520706</td>\n",
       "      <td>77.306872</td>\n",
       "    </tr>\n",
       "    <tr>\n",
       "      <th>1</th>\n",
       "      <td>Ali Pur</td>\n",
       "      <td>North West</td>\n",
       "      <td>28.653810</td>\n",
       "      <td>77.228970</td>\n",
       "    </tr>\n",
       "    <tr>\n",
       "      <th>2</th>\n",
       "      <td>Asola</td>\n",
       "      <td>South</td>\n",
       "      <td>28.495349</td>\n",
       "      <td>77.266529</td>\n",
       "    </tr>\n",
       "    <tr>\n",
       "      <th>3</th>\n",
       "      <td>Aya Nagar</td>\n",
       "      <td>South</td>\n",
       "      <td>28.476491</td>\n",
       "      <td>77.132913</td>\n",
       "    </tr>\n",
       "    <tr>\n",
       "      <th>4</th>\n",
       "      <td>Babar Pur</td>\n",
       "      <td>North East</td>\n",
       "      <td>28.653810</td>\n",
       "      <td>77.228970</td>\n",
       "    </tr>\n",
       "    <tr>\n",
       "      <th>...</th>\n",
       "      <td>...</td>\n",
       "      <td>...</td>\n",
       "      <td>...</td>\n",
       "      <td>...</td>\n",
       "    </tr>\n",
       "    <tr>\n",
       "      <th>108</th>\n",
       "      <td>Tikri Khurd</td>\n",
       "      <td>North West</td>\n",
       "      <td>28.835662</td>\n",
       "      <td>77.118426</td>\n",
       "    </tr>\n",
       "    <tr>\n",
       "      <th>109</th>\n",
       "      <td>Tilang Pur Kotla</td>\n",
       "      <td>West</td>\n",
       "      <td>28.653810</td>\n",
       "      <td>77.228970</td>\n",
       "    </tr>\n",
       "    <tr>\n",
       "      <th>110</th>\n",
       "      <td>Tukhmir Pur</td>\n",
       "      <td>North East</td>\n",
       "      <td>28.653810</td>\n",
       "      <td>77.228970</td>\n",
       "    </tr>\n",
       "    <tr>\n",
       "      <th>111</th>\n",
       "      <td>Ujwa</td>\n",
       "      <td>South West</td>\n",
       "      <td>28.569963</td>\n",
       "      <td>76.909343</td>\n",
       "    </tr>\n",
       "    <tr>\n",
       "      <th>112</th>\n",
       "      <td>Ziauddin Pur</td>\n",
       "      <td>North East</td>\n",
       "      <td>28.653810</td>\n",
       "      <td>77.228970</td>\n",
       "    </tr>\n",
       "  </tbody>\n",
       "</table>\n",
       "<p>113 rows × 4 columns</p>\n",
       "</div>"
      ],
      "text/plain": [
       "                 Name    District   latitude  longitude\n",
       "0                Aali       South  28.520706  77.306872\n",
       "1             Ali Pur  North West  28.653810  77.228970\n",
       "2               Asola       South  28.495349  77.266529\n",
       "3           Aya Nagar       South  28.476491  77.132913\n",
       "4           Babar Pur  North East  28.653810  77.228970\n",
       "..                ...         ...        ...        ...\n",
       "108       Tikri Khurd  North West  28.835662  77.118426\n",
       "109  Tilang Pur Kotla        West  28.653810  77.228970\n",
       "110       Tukhmir Pur  North East  28.653810  77.228970\n",
       "111              Ujwa  South West  28.569963  76.909343\n",
       "112      Ziauddin Pur  North East  28.653810  77.228970\n",
       "\n",
       "[113 rows x 4 columns]"
      ]
     },
     "execution_count": 46,
     "metadata": {},
     "output_type": "execute_result"
    }
   ],
   "source": [
    "df_towns = pd.read_excel('towns.xlsx',index_col = 0)"
   ]
  },
  {
   "cell_type": "code",
   "execution_count": 47,
   "metadata": {},
   "outputs": [],
   "source": [
    "from opencage.geocoder import OpenCageGeocode\n",
    "key = \"f17e3adbd2fc4d81ac431f466dfcbe87\"  \n",
    "geocoder = OpenCageGeocode(key)"
   ]
  },
  {
   "cell_type": "code",
   "execution_count": 48,
   "metadata": {},
   "outputs": [],
   "source": [
    "\n",
    "list_lat = []   # create empty lists\n",
    "list_long = []\n",
    "\n",
    "\n",
    "\t\n",
    "for index, row in df_towns.iterrows(): # iterate over rows in dataframe\n",
    "    \n",
    "    Town = row['Name']\n",
    "    query = str(Town)+','+ \"Delhi\"\n",
    "\n",
    "    results = geocoder.geocode(query)   \n",
    "    lat = results[0]['geometry']['lat']\n",
    "    long = results[0]['geometry']['lng']\n",
    "   \n",
    "    list_lat.append(lat)\n",
    "    list_long.append(long)\n",
    "\n",
    "\t\n",
    "# create new columns from lists    \n",
    "\n",
    "df_towns['latitude'] = list_lat   \n",
    "\n",
    "df_towns['longitude'] = list_long"
   ]
  },
  {
   "cell_type": "code",
   "execution_count": 50,
   "metadata": {},
   "outputs": [],
   "source": [
    "df_towns.to_excel(\"towns.xlsx\")"
   ]
  },
  {
   "cell_type": "code",
   "execution_count": 3,
   "metadata": {},
   "outputs": [
    {
     "name": "stdout",
     "output_type": "stream",
     "text": [
      "{'town': 'Aali', 'lat': 28.5207056, 'long': 77.3068719, '_id': ObjectId('607c70885c7856de5d1f462e')}\n",
      "{'town': 'Ali Pur', 'lat': 28.65381, 'long': 77.22897, '_id': ObjectId('607c70895c7856de5d1f462f')}\n",
      "{'town': 'Asola', 'lat': 28.4541467, 'long': 77.2301861, '_id': ObjectId('607c708a5c7856de5d1f4630')}\n",
      "{'town': 'Aya Nagar', 'lat': 28.476491, 'long': 77.1329132, '_id': ObjectId('607c708b5c7856de5d1f4631')}\n",
      "{'town': 'Babar Pur', 'lat': 28.65381, 'long': 77.22897, '_id': ObjectId('607c708c5c7856de5d1f4632')}\n",
      "{'town': 'Bakhtawar Pur', 'lat': 28.8258129, 'long': 77.1728911, '_id': ObjectId('607c708d5c7856de5d1f4633')}\n",
      "{'town': 'Bakkar Wala', 'lat': 28.65381, 'long': 77.22897, '_id': ObjectId('607c708e5c7856de5d1f4634')}\n",
      "{'town': 'Bankauli', 'lat': 28.65381, 'long': 77.22897, '_id': ObjectId('607c708f5c7856de5d1f4635')}\n",
      "{'town': 'Bankner', 'lat': 28.8475743, 'long': 77.0732014, '_id': ObjectId('607c70905c7856de5d1f4636')}\n",
      "{'town': 'Bapraula', 'lat': 28.65381, 'long': 77.22897, '_id': ObjectId('607c70915c7856de5d1f4637')}\n",
      "{'town': 'Baqiabad', 'lat': 28.65381, 'long': 77.22897, '_id': ObjectId('607c70925c7856de5d1f4638')}\n",
      "{'town': 'Barwala', 'lat': 28.7613474, 'long': 77.0618819, '_id': ObjectId('607c70935c7856de5d1f4639')}\n",
      "{'town': 'Bawana', 'lat': 28.79966, 'long': 77.0328847, '_id': ObjectId('607c70945c7856de5d1f463a')}\n",
      "{'town': 'Begum Pur', 'lat': 28.725503, 'long': 77.0583706, '_id': ObjectId('607c70955c7856de5d1f463b')}\n",
      "{'town': 'Bhalswa Jahangir Pur', 'lat': 28.65381, 'long': 77.22897, '_id': ObjectId('607c70965c7856de5d1f463c')}\n",
      "{'town': 'Bhati', 'lat': 28.427953, 'long': 77.188803, '_id': ObjectId('607c70975c7856de5d1f463d')}\n",
      "{'town': 'Bhor Garh', 'lat': 28.65381, 'long': 77.22897, '_id': ObjectId('607c70985c7856de5d1f463e')}\n",
      "{'town': 'Burari', 'lat': 28.7536438, 'long': 77.2016511, '_id': ObjectId('607c70995c7856de5d1f463f')}\n",
      "{'town': 'Chandan Hola', 'lat': 28.4719176, 'long': 77.1868107, '_id': ObjectId('607c709a5c7856de5d1f4640')}\n",
      "{'town': 'Chattar Pur', 'lat': 28.65381, 'long': 77.22897, '_id': ObjectId('607c709c5c7856de5d1f4641')}\n",
      "{'town': 'Chhawala (Chhawla)', 'lat': 28.65381, 'long': 77.22897, '_id': ObjectId('607c709c5c7856de5d1f4642')}\n",
      "{'town': 'Chilla Saroda Bangar', 'lat': 28.65381, 'long': 77.22897, '_id': ObjectId('607c709e5c7856de5d1f4643')}\n",
      "{'town': 'Chilla Saroda Khadar', 'lat': 28.65381, 'long': 77.22897, '_id': ObjectId('607c709f5c7856de5d1f4644')}\n",
      "{'town': 'Dallo Pura', 'lat': 28.65381, 'long': 77.22897, '_id': ObjectId('607c70a15c7856de5d1f4645')}\n",
      "{'town': 'Darya Pur Kalan', 'lat': 28.65381, 'long': 77.22897, '_id': ObjectId('607c70a25c7856de5d1f4646')}\n",
      "{'town': 'Dayal Pur', 'lat': 28.65381, 'long': 77.22897, '_id': ObjectId('607c70a25c7856de5d1f4647')}\n",
      "{'town': 'Delhi', 'lat': 28.6517178, 'long': 77.2219388, '_id': ObjectId('607c70a35c7856de5d1f4648')}\n",
      "{'town': 'Delhi Cantonment', 'lat': 28.5938331, 'long': 77.1349789, '_id': ObjectId('607c70a55c7856de5d1f4649')}\n",
      "{'town': 'Deoli', 'lat': 28.5085673, 'long': 77.2323488, '_id': ObjectId('607c70a65c7856de5d1f464a')}\n",
      "{'town': 'Dera Mandi', 'lat': 28.443043, 'long': 77.1480267, '_id': ObjectId('607c70a75c7856de5d1f464b')}\n",
      "{'town': 'Dindar Pur', 'lat': 28.65381, 'long': 77.22897, '_id': ObjectId('607c70a85c7856de5d1f464c')}\n",
      "{'town': 'Fateh Pur Beri', 'lat': 28.65381, 'long': 77.22897, '_id': ObjectId('607c70a95c7856de5d1f464d')}\n",
      "{'town': 'Gharoli', 'lat': 28.6169817, 'long': 77.3322548, '_id': ObjectId('607c70aa5c7856de5d1f464e')}\n",
      "{'town': 'Gharonda Neemka Bangar (Patparganj)', 'lat': 28.65381, 'long': 77.22897, '_id': ObjectId('607c70ab5c7856de5d1f464f')}\n",
      "{'town': 'Gheora', 'lat': 28.65381, 'long': 77.22897, '_id': ObjectId('607c70ac5c7856de5d1f4650')}\n",
      "{'town': 'Ghitorni', 'lat': 28.493751, 'long': 77.1491866, '_id': ObjectId('607c70ad5c7856de5d1f4651')}\n",
      "{'town': 'Gokal Pur', 'lat': 28.65381, 'long': 77.22897, '_id': ObjectId('607c70ae5c7856de5d1f4652')}\n",
      "{'town': 'Hastsal', 'lat': 28.6382812, 'long': 77.0450943, '_id': ObjectId('607c70af5c7856de5d1f4653')}\n",
      "{'town': 'Ibrahim Pur', 'lat': 28.725503, 'long': 77.0583706, '_id': ObjectId('607c70b15c7856de5d1f4654')}\n",
      "{'town': 'Jaffar Pur Kalan', 'lat': 28.5958543, 'long': 76.9151778, '_id': ObjectId('607c70b25c7856de5d1f4655')}\n",
      "{'town': 'Jaffrabad', 'lat': 28.6826822, 'long': 77.2748055, '_id': ObjectId('607c70b35c7856de5d1f4656')}\n",
      "{'town': 'Jait Pur', 'lat': 28.65381, 'long': 77.22897, '_id': ObjectId('607c70b45c7856de5d1f4657')}\n",
      "{'town': 'Jharoda Kalan', 'lat': 28.6510956, 'long': 76.9465938, '_id': ObjectId('607c70b55c7856de5d1f4658')}\n",
      "{'town': 'Jharoda Majra Burari', 'lat': 28.65381, 'long': 77.22897, '_id': ObjectId('607c70b75c7856de5d1f4659')}\n",
      "{'town': 'Jiwan Pur (Johri Pur)', 'lat': 28.65381, 'long': 77.22897, '_id': ObjectId('607c70b95c7856de5d1f465a')}\n",
      "{'town': 'Jona Pur', 'lat': 28.65381, 'long': 77.22897, '_id': ObjectId('607c70ba5c7856de5d1f465b')}\n",
      "{'town': 'Kair', 'lat': 28.6245988, 'long': 76.9178407, '_id': ObjectId('607c70bb5c7856de5d1f465c')}\n",
      "{'town': 'Kamal Pur Majra Burari', 'lat': 28.65381, 'long': 77.22897, '_id': ObjectId('607c70bc5c7856de5d1f465d')}\n",
      "{'town': 'Kanjhawala', 'lat': 28.7358173, 'long': 77.0043151, '_id': ObjectId('607c70bd5c7856de5d1f465e')}\n",
      "{'town': 'Kapas Hera', 'lat': 28.65381, 'long': 77.22897, '_id': ObjectId('607c70bf5c7856de5d1f465f')}\n",
      "{'town': 'Karala', 'lat': 28.73514, 'long': 77.0325105, '_id': ObjectId('607c70c15c7856de5d1f4660')}\n",
      "{'town': 'Karawal Nagar', 'lat': 28.7311406, 'long': 77.2747898, '_id': ObjectId('607c70c35c7856de5d1f4661')}\n",
      "{'town': 'Khajoori Khas', 'lat': 28.65381, 'long': 77.22897, '_id': ObjectId('607c70c45c7856de5d1f4662')}\n",
      "{'town': 'Khan Pur Dhani', 'lat': 28.65381, 'long': 77.22897, '_id': ObjectId('607c70c45c7856de5d1f4663')}\n",
      "{'town': 'Khera', 'lat': 28.6769548, 'long': 77.3015259, '_id': ObjectId('607c70c65c7856de5d1f4664')}\n",
      "{'town': 'Khera Kalan', 'lat': 28.7748325, 'long': 77.1162812, '_id': ObjectId('607c70c75c7856de5d1f4665')}\n",
      "{'town': 'Khera Khurd', 'lat': 28.7764499, 'long': 77.097141, '_id': ObjectId('607c70c85c7856de5d1f4666')}\n",
      "{'town': 'Kirari Suleman Nagar', 'lat': 28.7026993, 'long': 77.047004, '_id': ObjectId('607c70c95c7856de5d1f4667')}\n",
      "{'town': 'Kondli', 'lat': 28.6070816, 'long': 77.3243319, '_id': ObjectId('607c70ca5c7856de5d1f4668')}\n",
      "{'town': 'Kotla Mahigiran', 'lat': 28.65381, 'long': 77.22897, '_id': ObjectId('607c70cb5c7856de5d1f4669')}\n",
      "{'town': 'Kusum Pur', 'lat': 28.65381, 'long': 77.22897, '_id': ObjectId('607c70cc5c7856de5d1f466a')}\n",
      "{'town': 'Lad Pur', 'lat': 28.65381, 'long': 77.22897, '_id': ObjectId('607c70cc5c7856de5d1f466b')}\n",
      "{'town': 'Libas Pur', 'lat': 28.65381, 'long': 77.22897, '_id': ObjectId('607c70cd5c7856de5d1f466c')}\n",
      "{'town': 'Maidan Garhi', 'lat': 28.4987734, 'long': 77.1944475, '_id': ObjectId('607c70ce5c7856de5d1f466d')}\n",
      "{'town': 'Malik Pur Kohi (Rang Puri)', 'lat': 28.65381, 'long': 77.22897, '_id': ObjectId('607c70cf5c7856de5d1f466e')}\n",
      "{'town': 'Mandoli', 'lat': 28.6882468, 'long': 77.2989225, '_id': ObjectId('607c70d05c7856de5d1f466f')}\n",
      "{'town': 'Mir Pur Turk', 'lat': 28.65381, 'long': 77.22897, '_id': ObjectId('607c70d15c7856de5d1f4670')}\n",
      "{'town': 'Mithe Pur', 'lat': 28.65381, 'long': 77.22897, '_id': ObjectId('607c70d15c7856de5d1f4671')}\n",
      "{'town': 'Mitraon', 'lat': 28.6074198, 'long': 76.9453065, '_id': ObjectId('607c70d25c7856de5d1f4672')}\n",
      "{'town': 'Mohammad Pur Majri', 'lat': 28.65381, 'long': 77.22897, '_id': ObjectId('607c70d35c7856de5d1f4673')}\n",
      "{'town': 'Molar Band', 'lat': 28.65381, 'long': 77.22897, '_id': ObjectId('607c70d45c7856de5d1f4674')}\n",
      "{'town': 'Moradabad Pahari', 'lat': 28.65381, 'long': 77.22897, '_id': ObjectId('607c70d55c7856de5d1f4675')}\n",
      "{'town': 'Mubarak Pur Dabas', 'lat': 28.65381, 'long': 77.22897, '_id': ObjectId('607c70d55c7856de5d1f4676')}\n",
      "{'town': 'Mukand Pur', 'lat': 28.65381, 'long': 77.22897, '_id': ObjectId('607c70d65c7856de5d1f4677')}\n",
      "{'town': 'Mukhmel Pur', 'lat': 28.65381, 'long': 77.22897, '_id': ObjectId('607c70d75c7856de5d1f4678')}\n",
      "{'town': 'Mundka', 'lat': 28.6824341, 'long': 77.0305741, '_id': ObjectId('607c70d85c7856de5d1f4679')}\n",
      "{'town': 'Mustafabad', 'lat': 28.65381, 'long': 77.22897, '_id': ObjectId('607c70d95c7856de5d1f467a')}\n",
      "{'town': 'Nangli Sakrawati', 'lat': 28.6196158, 'long': 77.0016997, '_id': ObjectId('607c70d95c7856de5d1f467b')}\n"
     ]
    },
    {
     "name": "stdout",
     "output_type": "stream",
     "text": [
      "{'town': 'Nangloi Jat', 'lat': 28.6786, 'long': 77.06749, '_id': ObjectId('607c70da5c7856de5d1f467c')}\n",
      "{'town': 'Neb Sarai', 'lat': 28.5055007, 'long': 77.2014964, '_id': ObjectId('607c70db5c7856de5d1f467d')}\n",
      "{'town': 'New Delhi', 'lat': 28.6138954, 'long': 77.2090057, '_id': ObjectId('607c70dc5c7856de5d1f467e')}\n",
      "{'town': 'Nilothi', 'lat': 28.6501688, 'long': 77.0553212, '_id': ObjectId('607c70dd5c7856de5d1f467f')}\n",
      "{'town': 'Nithari', 'lat': 28.576552, 'long': 77.3197643, '_id': ObjectId('607c70de5c7856de5d1f4680')}\n",
      "{'town': 'Pehlad Pur Bangar', 'lat': 28.65381, 'long': 77.22897, '_id': ObjectId('607c70de5c7856de5d1f4681')}\n",
      "{'town': 'Pooth Kalan', 'lat': 28.65381, 'long': 77.22897, '_id': ObjectId('607c70e05c7856de5d1f4682')}\n",
      "{'town': 'Pooth Khurd', 'lat': 28.65381, 'long': 77.22897, '_id': ObjectId('607c70e15c7856de5d1f4683')}\n",
      "{'town': 'Pul Pehlad', 'lat': 28.65381, 'long': 77.22897, '_id': ObjectId('607c70e15c7856de5d1f4684')}\n",
      "{'town': 'Qadi Pur', 'lat': 28.65381, 'long': 77.22897, '_id': ObjectId('607c70e35c7856de5d1f4685')}\n",
      "{'town': 'Quammruddin Nagar', 'lat': 28.65381, 'long': 77.22897, '_id': ObjectId('607c70e45c7856de5d1f4686')}\n",
      "{'town': 'Qutab Garh', 'lat': 28.65381, 'long': 77.22897, '_id': ObjectId('607c70e55c7856de5d1f4687')}\n",
      "{'town': 'Raja Pur Khurd', 'lat': 28.65381, 'long': 77.22897, '_id': ObjectId('607c70e55c7856de5d1f4688')}\n",
      "{'town': 'Rajokri', 'lat': 28.5131702, 'long': 77.1107659, '_id': ObjectId('607c70e65c7856de5d1f4689')}\n",
      "{'town': 'Raj Pur Khurd', 'lat': 28.65381, 'long': 77.22897, '_id': ObjectId('607c70e85c7856de5d1f468a')}\n",
      "{'town': 'Rani Khera', 'lat': 28.7061763, 'long': 77.0234192, '_id': ObjectId('607c70e85c7856de5d1f468b')}\n",
      "{'town': 'Roshan Pura (Dichaon Khurd)', 'lat': 28.65381, 'long': 77.22897, '_id': ObjectId('607c70e95c7856de5d1f468c')}\n",
      "{'town': 'Sadat Pur Gujran', 'lat': 28.65381, 'long': 77.22897, '_id': ObjectId('607c70ea5c7856de5d1f468d')}\n",
      "{'town': 'Sahibabad Daulat Pur', 'lat': 28.65381, 'long': 77.22897, '_id': ObjectId('607c70eb5c7856de5d1f468e')}\n",
      "{'town': 'Saidabad', 'lat': 28.65381, 'long': 77.22897, '_id': ObjectId('607c70ec5c7856de5d1f468f')}\n",
      "{'town': 'Saidul Azaib', 'lat': 28.65381, 'long': 77.22897, '_id': ObjectId('607c70ed5c7856de5d1f4690')}\n",
      "{'town': 'Sambhalka', 'lat': 28.65381, 'long': 77.22897, '_id': ObjectId('607c70ee5c7856de5d1f4691')}\n",
      "{'town': 'Shafi Pur Ranhola', 'lat': 28.65381, 'long': 77.22897, '_id': ObjectId('607c70ee5c7856de5d1f4692')}\n",
      "{'town': 'Shakar Pur Baramad', 'lat': 28.65381, 'long': 77.22897, '_id': ObjectId('607c70ef5c7856de5d1f4693')}\n",
      "{'town': 'Siras Pur', 'lat': 28.65381, 'long': 77.22897, '_id': ObjectId('607c70f05c7856de5d1f4694')}\n",
      "{'town': 'Sultan Pur', 'lat': 28.65381, 'long': 77.22897, '_id': ObjectId('607c70f25c7856de5d1f4695')}\n",
      "{'town': 'Sultan Pur Majra', 'lat': 28.65381, 'long': 77.22897, '_id': ObjectId('607c70f35c7856de5d1f4696')}\n",
      "{'town': 'Taj Pul', 'lat': 28.65381, 'long': 77.22897, '_id': ObjectId('607c70f45c7856de5d1f4697')}\n",
      "{'town': 'Tigri', 'lat': 28.5117193, 'long': 77.240937, '_id': ObjectId('607c70f55c7856de5d1f4698')}\n",
      "{'town': 'Tikri Kalan', 'lat': 28.6868661, 'long': 76.9772069, '_id': ObjectId('607c70f65c7856de5d1f4699')}\n",
      "{'town': 'Tikri Khurd', 'lat': 28.8356621, 'long': 77.1184261, '_id': ObjectId('607c70f75c7856de5d1f469a')}\n",
      "{'town': 'Tilang Pur Kotla', 'lat': 28.65381, 'long': 77.22897, '_id': ObjectId('607c70f95c7856de5d1f469b')}\n",
      "{'town': 'Tukhmir Pur', 'lat': 28.65381, 'long': 77.22897, '_id': ObjectId('607c70fa5c7856de5d1f469c')}\n",
      "{'town': 'Ujwa', 'lat': 28.5699629, 'long': 76.9093434, '_id': ObjectId('607c70fb5c7856de5d1f469d')}\n",
      "{'town': 'Ziauddin Pur', 'lat': 28.65381, 'long': 77.22897, '_id': ObjectId('607c70fc5c7856de5d1f469e')}\n"
     ]
    },
    {
     "ename": "FileCreateError",
     "evalue": "[Errno 13] Permission denied: 'towns.xlsx'",
     "output_type": "error",
     "traceback": [
      "\u001b[1;31m---------------------------------------------------------------------------\u001b[0m",
      "\u001b[1;31mPermissionError\u001b[0m                           Traceback (most recent call last)",
      "\u001b[1;32mC:\\ProgramData\\Anaconda3\\lib\\site-packages\\xlsxwriter\\workbook.py\u001b[0m in \u001b[0;36mclose\u001b[1;34m(self)\u001b[0m\n\u001b[0;32m    319\u001b[0m             \u001b[1;32mtry\u001b[0m\u001b[1;33m:\u001b[0m\u001b[1;33m\u001b[0m\u001b[1;33m\u001b[0m\u001b[0m\n\u001b[1;32m--> 320\u001b[1;33m                 \u001b[0mself\u001b[0m\u001b[1;33m.\u001b[0m\u001b[0m_store_workbook\u001b[0m\u001b[1;33m(\u001b[0m\u001b[1;33m)\u001b[0m\u001b[1;33m\u001b[0m\u001b[1;33m\u001b[0m\u001b[0m\n\u001b[0m\u001b[0;32m    321\u001b[0m             \u001b[1;32mexcept\u001b[0m \u001b[0mIOError\u001b[0m \u001b[1;32mas\u001b[0m \u001b[0me\u001b[0m\u001b[1;33m:\u001b[0m\u001b[1;33m\u001b[0m\u001b[1;33m\u001b[0m\u001b[0m\n",
      "\u001b[1;32mC:\\ProgramData\\Anaconda3\\lib\\site-packages\\xlsxwriter\\workbook.py\u001b[0m in \u001b[0;36m_store_workbook\u001b[1;34m(self)\u001b[0m\n\u001b[0;32m    637\u001b[0m         \u001b[1;32mexcept\u001b[0m \u001b[0mIOError\u001b[0m \u001b[1;32mas\u001b[0m \u001b[0me\u001b[0m\u001b[1;33m:\u001b[0m\u001b[1;33m\u001b[0m\u001b[1;33m\u001b[0m\u001b[0m\n\u001b[1;32m--> 638\u001b[1;33m             \u001b[1;32mraise\u001b[0m \u001b[0me\u001b[0m\u001b[1;33m\u001b[0m\u001b[1;33m\u001b[0m\u001b[0m\n\u001b[0m\u001b[0;32m    639\u001b[0m \u001b[1;33m\u001b[0m\u001b[0m\n",
      "\u001b[1;32mC:\\ProgramData\\Anaconda3\\lib\\site-packages\\xlsxwriter\\workbook.py\u001b[0m in \u001b[0;36m_store_workbook\u001b[1;34m(self)\u001b[0m\n\u001b[0;32m    634\u001b[0m         \u001b[1;32mtry\u001b[0m\u001b[1;33m:\u001b[0m\u001b[1;33m\u001b[0m\u001b[1;33m\u001b[0m\u001b[0m\n\u001b[1;32m--> 635\u001b[1;33m             xlsx_file = ZipFile(self.filename, \"w\", compression=ZIP_DEFLATED,\n\u001b[0m\u001b[0;32m    636\u001b[0m                                 allowZip64=self.allow_zip64)\n",
      "\u001b[1;32mC:\\ProgramData\\Anaconda3\\lib\\zipfile.py\u001b[0m in \u001b[0;36m__init__\u001b[1;34m(self, file, mode, compression, allowZip64, compresslevel, strict_timestamps)\u001b[0m\n\u001b[0;32m   1250\u001b[0m                 \u001b[1;32mtry\u001b[0m\u001b[1;33m:\u001b[0m\u001b[1;33m\u001b[0m\u001b[1;33m\u001b[0m\u001b[0m\n\u001b[1;32m-> 1251\u001b[1;33m                     \u001b[0mself\u001b[0m\u001b[1;33m.\u001b[0m\u001b[0mfp\u001b[0m \u001b[1;33m=\u001b[0m \u001b[0mio\u001b[0m\u001b[1;33m.\u001b[0m\u001b[0mopen\u001b[0m\u001b[1;33m(\u001b[0m\u001b[0mfile\u001b[0m\u001b[1;33m,\u001b[0m \u001b[0mfilemode\u001b[0m\u001b[1;33m)\u001b[0m\u001b[1;33m\u001b[0m\u001b[1;33m\u001b[0m\u001b[0m\n\u001b[0m\u001b[0;32m   1252\u001b[0m                 \u001b[1;32mexcept\u001b[0m \u001b[0mOSError\u001b[0m\u001b[1;33m:\u001b[0m\u001b[1;33m\u001b[0m\u001b[1;33m\u001b[0m\u001b[0m\n",
      "\u001b[1;31mPermissionError\u001b[0m: [Errno 13] Permission denied: 'towns.xlsx'",
      "\nDuring handling of the above exception, another exception occurred:\n",
      "\u001b[1;31mFileCreateError\u001b[0m                           Traceback (most recent call last)",
      "\u001b[1;32m<ipython-input-3-f39a969c9a44>\u001b[0m in \u001b[0;36m<module>\u001b[1;34m\u001b[0m\n\u001b[0;32m     39\u001b[0m \u001b[0mdf_towns\u001b[0m\u001b[1;33m[\u001b[0m\u001b[1;34m'longitude'\u001b[0m\u001b[1;33m]\u001b[0m \u001b[1;33m=\u001b[0m \u001b[0mlist_long\u001b[0m\u001b[1;33m\u001b[0m\u001b[1;33m\u001b[0m\u001b[0m\n\u001b[0;32m     40\u001b[0m \u001b[1;33m\u001b[0m\u001b[0m\n\u001b[1;32m---> 41\u001b[1;33m \u001b[0mdf_towns\u001b[0m\u001b[1;33m.\u001b[0m\u001b[0mto_excel\u001b[0m\u001b[1;33m(\u001b[0m\u001b[1;34m\"towns.xlsx\"\u001b[0m\u001b[1;33m)\u001b[0m\u001b[1;33m\u001b[0m\u001b[1;33m\u001b[0m\u001b[0m\n\u001b[0m",
      "\u001b[1;32mC:\\ProgramData\\Anaconda3\\lib\\site-packages\\pandas\\core\\generic.py\u001b[0m in \u001b[0;36mto_excel\u001b[1;34m(self, excel_writer, sheet_name, na_rep, float_format, columns, header, index, index_label, startrow, startcol, engine, merge_cells, encoding, inf_rep, verbose, freeze_panes)\u001b[0m\n\u001b[0;32m   2024\u001b[0m             \u001b[0minf_rep\u001b[0m\u001b[1;33m=\u001b[0m\u001b[0minf_rep\u001b[0m\u001b[1;33m,\u001b[0m\u001b[1;33m\u001b[0m\u001b[1;33m\u001b[0m\u001b[0m\n\u001b[0;32m   2025\u001b[0m         )\n\u001b[1;32m-> 2026\u001b[1;33m         formatter.write(\n\u001b[0m\u001b[0;32m   2027\u001b[0m             \u001b[0mexcel_writer\u001b[0m\u001b[1;33m,\u001b[0m\u001b[1;33m\u001b[0m\u001b[1;33m\u001b[0m\u001b[0m\n\u001b[0;32m   2028\u001b[0m             \u001b[0msheet_name\u001b[0m\u001b[1;33m=\u001b[0m\u001b[0msheet_name\u001b[0m\u001b[1;33m,\u001b[0m\u001b[1;33m\u001b[0m\u001b[1;33m\u001b[0m\u001b[0m\n",
      "\u001b[1;32mC:\\ProgramData\\Anaconda3\\lib\\site-packages\\pandas\\io\\formats\\excel.py\u001b[0m in \u001b[0;36mwrite\u001b[1;34m(self, writer, sheet_name, startrow, startcol, freeze_panes, engine)\u001b[0m\n\u001b[0;32m    740\u001b[0m         )\n\u001b[0;32m    741\u001b[0m         \u001b[1;32mif\u001b[0m \u001b[0mneed_save\u001b[0m\u001b[1;33m:\u001b[0m\u001b[1;33m\u001b[0m\u001b[1;33m\u001b[0m\u001b[0m\n\u001b[1;32m--> 742\u001b[1;33m             \u001b[0mwriter\u001b[0m\u001b[1;33m.\u001b[0m\u001b[0msave\u001b[0m\u001b[1;33m(\u001b[0m\u001b[1;33m)\u001b[0m\u001b[1;33m\u001b[0m\u001b[1;33m\u001b[0m\u001b[0m\n\u001b[0m",
      "\u001b[1;32mC:\\ProgramData\\Anaconda3\\lib\\site-packages\\pandas\\io\\excel\\_xlsxwriter.py\u001b[0m in \u001b[0;36msave\u001b[1;34m(self)\u001b[0m\n\u001b[0;32m    191\u001b[0m         \u001b[0mSave\u001b[0m \u001b[0mworkbook\u001b[0m \u001b[0mto\u001b[0m \u001b[0mdisk\u001b[0m\u001b[1;33m.\u001b[0m\u001b[1;33m\u001b[0m\u001b[1;33m\u001b[0m\u001b[0m\n\u001b[0;32m    192\u001b[0m         \"\"\"\n\u001b[1;32m--> 193\u001b[1;33m         \u001b[1;32mreturn\u001b[0m \u001b[0mself\u001b[0m\u001b[1;33m.\u001b[0m\u001b[0mbook\u001b[0m\u001b[1;33m.\u001b[0m\u001b[0mclose\u001b[0m\u001b[1;33m(\u001b[0m\u001b[1;33m)\u001b[0m\u001b[1;33m\u001b[0m\u001b[1;33m\u001b[0m\u001b[0m\n\u001b[0m\u001b[0;32m    194\u001b[0m \u001b[1;33m\u001b[0m\u001b[0m\n\u001b[0;32m    195\u001b[0m     def write_cells(\n",
      "\u001b[1;32mC:\\ProgramData\\Anaconda3\\lib\\site-packages\\xlsxwriter\\workbook.py\u001b[0m in \u001b[0;36mclose\u001b[1;34m(self)\u001b[0m\n\u001b[0;32m    320\u001b[0m                 \u001b[0mself\u001b[0m\u001b[1;33m.\u001b[0m\u001b[0m_store_workbook\u001b[0m\u001b[1;33m(\u001b[0m\u001b[1;33m)\u001b[0m\u001b[1;33m\u001b[0m\u001b[1;33m\u001b[0m\u001b[0m\n\u001b[0;32m    321\u001b[0m             \u001b[1;32mexcept\u001b[0m \u001b[0mIOError\u001b[0m \u001b[1;32mas\u001b[0m \u001b[0me\u001b[0m\u001b[1;33m:\u001b[0m\u001b[1;33m\u001b[0m\u001b[1;33m\u001b[0m\u001b[0m\n\u001b[1;32m--> 322\u001b[1;33m                 \u001b[1;32mraise\u001b[0m \u001b[0mFileCreateError\u001b[0m\u001b[1;33m(\u001b[0m\u001b[0me\u001b[0m\u001b[1;33m)\u001b[0m\u001b[1;33m\u001b[0m\u001b[1;33m\u001b[0m\u001b[0m\n\u001b[0m\u001b[0;32m    323\u001b[0m             \u001b[1;32mexcept\u001b[0m \u001b[0mLargeZipFile\u001b[0m \u001b[1;32mas\u001b[0m \u001b[0me\u001b[0m\u001b[1;33m:\u001b[0m\u001b[1;33m\u001b[0m\u001b[1;33m\u001b[0m\u001b[0m\n\u001b[0;32m    324\u001b[0m                 raise FileSizeError(\"Filesize would require ZIP64 extensions. \"\n",
      "\u001b[1;31mFileCreateError\u001b[0m: [Errno 13] Permission denied: 'towns.xlsx'"
     ]
    }
   ],
   "source": [
    "import pandas as pd\n",
    "# pandas.__version__\n",
    "\n",
    "import pymongo\n",
    "\n",
    "\n",
    "\n",
    "myclient = pymongo.MongoClient(\"mongodb://localhost:27017/\")\n",
    "coordinates = myclient[\"coordinates\"]\n",
    "town = coordinates[\"town\"]\n",
    "df_towns = pd.read_excel('towns.xlsx',index_col = 0)\n",
    "\n",
    "from opencage.geocoder import OpenCageGeocode\n",
    "key = \"f17e3adbd2fc4d81ac431f466dfcbe87\"  \n",
    "geocoder = OpenCageGeocode(key)\n",
    "\n",
    "list_lat = []   # create empty lists\n",
    "list_long = []\n",
    "\n",
    "for index, row in df_towns.iterrows(): # iterate over rows in dataframe\n",
    "    \n",
    "    Town = row['Name']\n",
    "    query = str(Town)+','+ \"Delhi\"\n",
    "\n",
    "    results = geocoder.geocode(query)   \n",
    "    lat = results[0]['geometry']['lat']\n",
    "    long = results[0]['geometry']['lng']\n",
    "    cor = {\"town\":Town, \"lat\": lat, \"long\": long}\n",
    "    town.insert_one(cor)\n",
    "    list_lat.append(lat)\n",
    "    list_long.append(long)\n",
    "    print(cor)\n",
    "\n",
    "\t\n",
    "# create new columns from lists    \n",
    "\n",
    "df_towns['latitude'] = list_lat   \n",
    "\n",
    "df_towns['longitude'] = list_long\n",
    "\n",
    "df_towns.to_excel(\"towns.xlsx\")"
   ]
  },
  {
   "cell_type": "code",
   "execution_count": 29,
   "metadata": {},
   "outputs": [],
   "source": [
    "df_towns = pd.read_excel('towns.xlsx')\n",
    "pdf =  df_towns.loc[df_towns['Name'] == \"Aali\"].to_dict()"
   ]
  },
  {
   "cell_type": "code",
   "execution_count": 35,
   "metadata": {},
   "outputs": [],
   "source": [
    "lat = pdf[\"latitude\"][0]"
   ]
  },
  {
   "cell_type": "code",
   "execution_count": 37,
   "metadata": {},
   "outputs": [
    {
     "data": {
      "text/plain": [
       "28.5207056"
      ]
     },
     "execution_count": 37,
     "metadata": {},
     "output_type": "execute_result"
    }
   ],
   "source": [
    "pdf[\"latitude\"][0]"
   ]
  },
  {
   "cell_type": "code",
   "execution_count": 40,
   "metadata": {},
   "outputs": [
    {
     "ename": "KeyError",
     "evalue": "'0'",
     "output_type": "error",
     "traceback": [
      "\u001b[1;31m---------------------------------------------------------------------------\u001b[0m",
      "\u001b[1;31mKeyError\u001b[0m                                  Traceback (most recent call last)",
      "\u001b[1;32m<ipython-input-40-c388bb17c8cc>\u001b[0m in \u001b[0;36m<module>\u001b[1;34m\u001b[0m\n\u001b[1;32m----> 1\u001b[1;33m \u001b[0mcor1\u001b[0m \u001b[1;33m=\u001b[0m \u001b[1;33m(\u001b[0m\u001b[0mpdf\u001b[0m\u001b[1;33m[\u001b[0m\u001b[1;34m\"latitude\"\u001b[0m\u001b[1;33m]\u001b[0m\u001b[1;33m[\u001b[0m\u001b[1;34m\"0\"\u001b[0m\u001b[1;33m]\u001b[0m\u001b[1;33m,\u001b[0m \u001b[0mpdf\u001b[0m\u001b[1;33m[\u001b[0m\u001b[1;34m\"longitude\"\u001b[0m\u001b[1;33m]\u001b[0m\u001b[1;33m[\u001b[0m\u001b[1;34m\"0\"\u001b[0m\u001b[1;33m]\u001b[0m\u001b[1;33m)\u001b[0m\u001b[1;33m\u001b[0m\u001b[1;33m\u001b[0m\u001b[0m\n\u001b[0m",
      "\u001b[1;31mKeyError\u001b[0m: '0'"
     ]
    }
   ],
   "source": [
    "cor1 = (pdf[\"latitude\"][\"0\"], pdf[\"longitude\"][\"0\"])"
   ]
  },
  {
   "cell_type": "code",
   "execution_count": 39,
   "metadata": {},
   "outputs": [
    {
     "data": {
      "text/plain": [
       "(28.5207056, 77.3068719)"
      ]
     },
     "execution_count": 39,
     "metadata": {},
     "output_type": "execute_result"
    }
   ],
   "source": [
    "cor1"
   ]
  },
  {
   "cell_type": "code",
   "execution_count": 52,
   "metadata": {},
   "outputs": [
    {
     "name": "stdout",
     "output_type": "stream",
     "text": [
      "The best state found is:  [7 6 5 4 3 2 1 0]\n",
      "The fitness at the best state is:  17.3428\n",
      "5.69031140000061\n"
     ]
    }
   ],
   "source": [
    "import six\n",
    "import sys\n",
    "sys.modules['sklearn.externals.six'] = six\n",
    "import mlrose\n",
    "import numpy as np\n",
    "from timeit import default_timer as timer \n",
    "\n",
    "# Create list of distances between pairs of cities\n",
    "dist_list = [(0, 1, 3.1623), (0, 2, 4.1231), (0, 3, 5.8310), (0, 4, 4.2426),\n",
    "             (0, 5, 5.3852), (0, 6, 4.0000), (0, 7, 2.2361), (1, 2, 1.0000),\n",
    "             (1, 3, 2.8284), (1, 4, 2.0000), (1, 5, 4.1231), (1, 6, 4.2426),\n",
    "             (1, 7, 2.2361), (2, 3, 2.2361), (2, 4, 2.2361), (2, 5, 4.4721),\n",
    "             (2, 6, 5.0000), (2, 7, 3.1623), (3, 4, 2.0000), (3, 5, 3.6056),\n",
    "             (3, 6, 5.0990), (3, 7, 4.1231), (4, 5, 2.2361), (4, 6, 3.1623),\n",
    "             (4, 7, 2.2361), (5, 6, 2.2361), (5, 7, 3.1623), (6, 7, 2.2361)]\n",
    "\n",
    "start = timer()\n",
    "# Initialize fitness function object using dist_list\n",
    "fitness_dists = mlrose.TravellingSales(distances = dist_list)\n",
    "\n",
    "problem_fit = mlrose.TSPOpt(length = 8, fitness_fn = fitness_dists, maximize=False)\n",
    "\n",
    "# Solve problem using the genetic algorithm\n",
    "best_state, best_fitness = mlrose.genetic_alg(problem_fit, mutation_prob = 0.2, \n",
    "\t\t\t\t\t      max_attempts = 100, random_state = 2)\n",
    "\n",
    "\n",
    "\n",
    "print('The best state found is: ', best_state)\n",
    "\n",
    "print('The fitness at the best state is: ', best_fitness)\n",
    "\n",
    "print(timer()-start)"
   ]
  },
  {
   "cell_type": "code",
   "execution_count": null,
   "metadata": {},
   "outputs": [],
   "source": []
  }
 ],
 "metadata": {
  "kernelspec": {
   "display_name": "Python 3",
   "language": "python",
   "name": "python3"
  },
  "language_info": {
   "codemirror_mode": {
    "name": "ipython",
    "version": 3
   },
   "file_extension": ".py",
   "mimetype": "text/x-python",
   "name": "python",
   "nbconvert_exporter": "python",
   "pygments_lexer": "ipython3",
   "version": "3.8.5"
  }
 },
 "nbformat": 4,
 "nbformat_minor": 4
}
