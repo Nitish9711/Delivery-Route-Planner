{
 "cells": [
  {
   "cell_type": "code",
   "execution_count": 44,
   "metadata": {},
   "outputs": [],
   "source": [
    "import pandas as pd\n",
    "# pandas.__version__\n"
   ]
  },
  {
   "cell_type": "code",
   "execution_count": 45,
   "metadata": {},
   "outputs": [
    {
     "data": {
      "text/html": [
       "<style type=\"text/css\">\n",
       "table.dataframe td, table.dataframe th {\n",
       "    border: 1px  black solid !important;\n",
       "  color: black !important;\n",
       "}\n",
       "</style>\n"
      ],
      "text/plain": [
       "<IPython.core.display.HTML object>"
      ]
     },
     "metadata": {},
     "output_type": "display_data"
    }
   ],
   "source": [
    "%%HTML\n",
    "<style type=\"text/css\">\n",
    "table.dataframe td, table.dataframe th {\n",
    "    border: 1px  black solid !important;\n",
    "  color: black !important;\n",
    "}\n",
    "</style>\n"
   ]
  },
  {
   "cell_type": "code",
   "execution_count": 46,
   "metadata": {},
   "outputs": [
    {
     "data": {
      "text/html": [
       "<div>\n",
       "<style scoped>\n",
       "    .dataframe tbody tr th:only-of-type {\n",
       "        vertical-align: middle;\n",
       "    }\n",
       "\n",
       "    .dataframe tbody tr th {\n",
       "        vertical-align: top;\n",
       "    }\n",
       "\n",
       "    .dataframe thead th {\n",
       "        text-align: right;\n",
       "    }\n",
       "</style>\n",
       "<table border=\"1\" class=\"dataframe\">\n",
       "  <thead>\n",
       "    <tr style=\"text-align: right;\">\n",
       "      <th></th>\n",
       "      <th>Name</th>\n",
       "      <th>District</th>\n",
       "      <th>latitude</th>\n",
       "      <th>longitude</th>\n",
       "    </tr>\n",
       "  </thead>\n",
       "  <tbody>\n",
       "    <tr>\n",
       "      <th>0</th>\n",
       "      <td>Aali</td>\n",
       "      <td>South</td>\n",
       "      <td>28.520706</td>\n",
       "      <td>77.306872</td>\n",
       "    </tr>\n",
       "    <tr>\n",
       "      <th>1</th>\n",
       "      <td>Ali Pur</td>\n",
       "      <td>North West</td>\n",
       "      <td>28.653810</td>\n",
       "      <td>77.228970</td>\n",
       "    </tr>\n",
       "    <tr>\n",
       "      <th>2</th>\n",
       "      <td>Asola</td>\n",
       "      <td>South</td>\n",
       "      <td>28.495349</td>\n",
       "      <td>77.266529</td>\n",
       "    </tr>\n",
       "    <tr>\n",
       "      <th>3</th>\n",
       "      <td>Aya Nagar</td>\n",
       "      <td>South</td>\n",
       "      <td>28.476491</td>\n",
       "      <td>77.132913</td>\n",
       "    </tr>\n",
       "    <tr>\n",
       "      <th>4</th>\n",
       "      <td>Babar Pur</td>\n",
       "      <td>North East</td>\n",
       "      <td>28.653810</td>\n",
       "      <td>77.228970</td>\n",
       "    </tr>\n",
       "    <tr>\n",
       "      <th>...</th>\n",
       "      <td>...</td>\n",
       "      <td>...</td>\n",
       "      <td>...</td>\n",
       "      <td>...</td>\n",
       "    </tr>\n",
       "    <tr>\n",
       "      <th>108</th>\n",
       "      <td>Tikri Khurd</td>\n",
       "      <td>North West</td>\n",
       "      <td>28.835662</td>\n",
       "      <td>77.118426</td>\n",
       "    </tr>\n",
       "    <tr>\n",
       "      <th>109</th>\n",
       "      <td>Tilang Pur Kotla</td>\n",
       "      <td>West</td>\n",
       "      <td>28.653810</td>\n",
       "      <td>77.228970</td>\n",
       "    </tr>\n",
       "    <tr>\n",
       "      <th>110</th>\n",
       "      <td>Tukhmir Pur</td>\n",
       "      <td>North East</td>\n",
       "      <td>28.653810</td>\n",
       "      <td>77.228970</td>\n",
       "    </tr>\n",
       "    <tr>\n",
       "      <th>111</th>\n",
       "      <td>Ujwa</td>\n",
       "      <td>South West</td>\n",
       "      <td>28.569963</td>\n",
       "      <td>76.909343</td>\n",
       "    </tr>\n",
       "    <tr>\n",
       "      <th>112</th>\n",
       "      <td>Ziauddin Pur</td>\n",
       "      <td>North East</td>\n",
       "      <td>28.653810</td>\n",
       "      <td>77.228970</td>\n",
       "    </tr>\n",
       "  </tbody>\n",
       "</table>\n",
       "<p>113 rows × 4 columns</p>\n",
       "</div>"
      ],
      "text/plain": [
       "                 Name    District   latitude  longitude\n",
       "0                Aali       South  28.520706  77.306872\n",
       "1             Ali Pur  North West  28.653810  77.228970\n",
       "2               Asola       South  28.495349  77.266529\n",
       "3           Aya Nagar       South  28.476491  77.132913\n",
       "4           Babar Pur  North East  28.653810  77.228970\n",
       "..                ...         ...        ...        ...\n",
       "108       Tikri Khurd  North West  28.835662  77.118426\n",
       "109  Tilang Pur Kotla        West  28.653810  77.228970\n",
       "110       Tukhmir Pur  North East  28.653810  77.228970\n",
       "111              Ujwa  South West  28.569963  76.909343\n",
       "112      Ziauddin Pur  North East  28.653810  77.228970\n",
       "\n",
       "[113 rows x 4 columns]"
      ]
     },
     "execution_count": 46,
     "metadata": {},
     "output_type": "execute_result"
    }
   ],
   "source": [
    "df_towns = pd.read_excel('towns.xlsx',index_col = 0)"
   ]
  },
  {
   "cell_type": "code",
   "execution_count": 47,
   "metadata": {},
   "outputs": [],
   "source": [
    "from opencage.geocoder import OpenCageGeocode\n",
    "key = \"f17e3adbd2fc4d81ac431f466dfcbe87\"  \n",
    "geocoder = OpenCageGeocode(key)"
   ]
  },
  {
   "cell_type": "code",
   "execution_count": 48,
   "metadata": {},
   "outputs": [],
   "source": [
    "\n",
    "list_lat = []   # create empty lists\n",
    "list_long = []\n",
    "\n",
    "\n",
    "\t\n",
    "for index, row in df_towns.iterrows(): # iterate over rows in dataframe\n",
    "    \n",
    "    Town = row['Name']\n",
    "    query = str(Town)+','+ \"Delhi\"\n",
    "\n",
    "    results = geocoder.geocode(query)   \n",
    "    lat = results[0]['geometry']['lat']\n",
    "    long = results[0]['geometry']['lng']\n",
    "   \n",
    "    list_lat.append(lat)\n",
    "    list_long.append(long)\n",
    "\n",
    "\t\n",
    "# create new columns from lists    \n",
    "\n",
    "df_towns['latitude'] = list_lat   \n",
    "\n",
    "df_towns['longitude'] = list_long"
   ]
  },
  {
   "cell_type": "code",
   "execution_count": 50,
   "metadata": {},
   "outputs": [],
   "source": [
    "df_towns.to_excel(\"towns.xlsx\")"
   ]
  },
  {
   "cell_type": "code",
   "execution_count": 2,
   "metadata": {},
   "outputs": [
    {
     "name": "stdout",
     "output_type": "stream",
     "text": [
      "{'town': 'Aali', 'lat': 28.5207056, 'long': 77.3068719, '_id': ObjectId('5fa6f71bf96c486085d03abb')}\n",
      "{'town': 'Ali Pur', 'lat': 28.65381, 'long': 77.22897, '_id': ObjectId('5fa6f71cf96c486085d03abc')}\n",
      "{'town': 'Asola', 'lat': 28.4953489, 'long': 77.2665293, '_id': ObjectId('5fa6f71df96c486085d03abd')}\n",
      "{'town': 'Aya Nagar', 'lat': 28.476491, 'long': 77.1329132, '_id': ObjectId('5fa6f71ef96c486085d03abe')}\n",
      "{'town': 'Babar Pur', 'lat': 28.65381, 'long': 77.22897, '_id': ObjectId('5fa6f71ef96c486085d03abf')}\n",
      "{'town': 'Bakhtawar Pur', 'lat': 28.8258129, 'long': 77.1728911, '_id': ObjectId('5fa6f71ff96c486085d03ac0')}\n",
      "{'town': 'Bakkar Wala', 'lat': 28.65381, 'long': 77.22897, '_id': ObjectId('5fa6f720f96c486085d03ac1')}\n",
      "{'town': 'Bankauli', 'lat': 28.65381, 'long': 77.22897, '_id': ObjectId('5fa6f721f96c486085d03ac2')}\n",
      "{'town': 'Bankner', 'lat': 28.8475743, 'long': 77.0732014, '_id': ObjectId('5fa6f722f96c486085d03ac3')}\n",
      "{'town': 'Bapraula', 'lat': 28.65381, 'long': 77.22897, '_id': ObjectId('5fa6f722f96c486085d03ac4')}\n",
      "{'town': 'Baqiabad', 'lat': 28.65381, 'long': 77.22897, '_id': ObjectId('5fa6f723f96c486085d03ac5')}\n",
      "{'town': 'Barwala', 'lat': 28.7613474, 'long': 77.0618819, '_id': ObjectId('5fa6f724f96c486085d03ac6')}\n",
      "{'town': 'Bawana', 'lat': 28.79966, 'long': 77.0328847, '_id': ObjectId('5fa6f725f96c486085d03ac7')}\n",
      "{'town': 'Begum Pur', 'lat': 28.725503, 'long': 77.0583706, '_id': ObjectId('5fa6f726f96c486085d03ac8')}\n",
      "{'town': 'Bhalswa Jahangir Pur', 'lat': 28.65381, 'long': 77.22897, '_id': ObjectId('5fa6f729f96c486085d03ac9')}\n",
      "{'town': 'Bhati', 'lat': 28.427953, 'long': 77.188803, '_id': ObjectId('5fa6f72af96c486085d03aca')}\n",
      "{'town': 'Bhor Garh', 'lat': 28.65381, 'long': 77.22897, '_id': ObjectId('5fa6f72bf96c486085d03acb')}\n",
      "{'town': 'Burari', 'lat': 28.7536438, 'long': 77.2016511, '_id': ObjectId('5fa6f72cf96c486085d03acc')}\n",
      "{'town': 'Chandan Hola', 'lat': 28.4719176, 'long': 77.1868107, '_id': ObjectId('5fa6f72df96c486085d03acd')}\n",
      "{'town': 'Chattar Pur', 'lat': 28.65381, 'long': 77.22897, '_id': ObjectId('5fa6f72df96c486085d03ace')}\n",
      "{'town': 'Chhawala (Chhawla)', 'lat': 28.65381, 'long': 77.22897, '_id': ObjectId('5fa6f72ef96c486085d03acf')}\n",
      "{'town': 'Chilla Saroda Bangar', 'lat': 28.65381, 'long': 77.22897, '_id': ObjectId('5fa6f72ff96c486085d03ad0')}\n",
      "{'town': 'Chilla Saroda Khadar', 'lat': 28.65381, 'long': 77.22897, '_id': ObjectId('5fa6f730f96c486085d03ad1')}\n",
      "{'town': 'Dallo Pura', 'lat': 28.65381, 'long': 77.22897, '_id': ObjectId('5fa6f731f96c486085d03ad2')}\n",
      "{'town': 'Darya Pur Kalan', 'lat': 28.65381, 'long': 77.22897, '_id': ObjectId('5fa6f731f96c486085d03ad3')}\n",
      "{'town': 'Dayal Pur', 'lat': 28.65381, 'long': 77.22897, '_id': ObjectId('5fa6f732f96c486085d03ad4')}\n",
      "{'town': 'Delhi', 'lat': 28.6517178, 'long': 77.2219388, '_id': ObjectId('5fa6f733f96c486085d03ad5')}\n",
      "{'town': 'Delhi Cantonment', 'lat': 28.5938331, 'long': 77.1349789, '_id': ObjectId('5fa6f735f96c486085d03ad6')}\n",
      "{'town': 'Deoli', 'lat': 28.5085673, 'long': 77.2323488, '_id': ObjectId('5fa6f736f96c486085d03ad7')}\n",
      "{'town': 'Dera Mandi', 'lat': 28.443043, 'long': 77.1480267, '_id': ObjectId('5fa6f736f96c486085d03ad8')}\n",
      "{'town': 'Dindar Pur', 'lat': 28.65381, 'long': 77.22897, '_id': ObjectId('5fa6f737f96c486085d03ad9')}\n",
      "{'town': 'Fateh Pur Beri', 'lat': 28.65381, 'long': 77.22897, '_id': ObjectId('5fa6f738f96c486085d03ada')}\n",
      "{'town': 'Gharoli', 'lat': 28.6169817, 'long': 77.3322548, '_id': ObjectId('5fa6f739f96c486085d03adb')}\n",
      "{'town': 'Gharonda Neemka Bangar (Patparganj)', 'lat': 28.65381, 'long': 77.22897, '_id': ObjectId('5fa6f73af96c486085d03adc')}\n",
      "{'town': 'Gheora', 'lat': 28.65381, 'long': 77.22897, '_id': ObjectId('5fa6f73bf96c486085d03add')}\n",
      "{'town': 'Ghitorni', 'lat': 28.493751, 'long': 77.1491866, '_id': ObjectId('5fa6f73cf96c486085d03ade')}\n",
      "{'town': 'Gokal Pur', 'lat': 28.65381, 'long': 77.22897, '_id': ObjectId('5fa6f73df96c486085d03adf')}\n",
      "{'town': 'Hastsal', 'lat': 28.6382812, 'long': 77.0450943, '_id': ObjectId('5fa6f73ef96c486085d03ae0')}\n",
      "{'town': 'Ibrahim Pur', 'lat': 28.725503, 'long': 77.0583706, '_id': ObjectId('5fa6f73ff96c486085d03ae1')}\n",
      "{'town': 'Jaffar Pur Kalan', 'lat': 28.5958543, 'long': 76.9151778, '_id': ObjectId('5fa6f740f96c486085d03ae2')}\n",
      "{'town': 'Jaffrabad', 'lat': 28.6826822, 'long': 77.2748055, '_id': ObjectId('5fa6f740f96c486085d03ae3')}\n",
      "{'town': 'Jait Pur', 'lat': 28.65381, 'long': 77.22897, '_id': ObjectId('5fa6f741f96c486085d03ae4')}\n",
      "{'town': 'Jharoda Kalan', 'lat': 28.6510956, 'long': 76.9465938, '_id': ObjectId('5fa6f742f96c486085d03ae5')}\n",
      "{'town': 'Jharoda Majra Burari', 'lat': 28.65381, 'long': 77.22897, '_id': ObjectId('5fa6f743f96c486085d03ae6')}\n",
      "{'town': 'Jiwan Pur (Johri Pur)', 'lat': 28.65381, 'long': 77.22897, '_id': ObjectId('5fa6f744f96c486085d03ae7')}\n",
      "{'town': 'Jona Pur', 'lat': 28.65381, 'long': 77.22897, '_id': ObjectId('5fa6f745f96c486085d03ae8')}\n",
      "{'town': 'Kair', 'lat': 28.6245988, 'long': 76.9178407, '_id': ObjectId('5fa6f746f96c486085d03ae9')}\n",
      "{'town': 'Kamal Pur Majra Burari', 'lat': 28.65381, 'long': 77.22897, '_id': ObjectId('5fa6f747f96c486085d03aea')}\n",
      "{'town': 'Kanjhawala', 'lat': 28.7358173, 'long': 77.0043151, '_id': ObjectId('5fa6f748f96c486085d03aeb')}\n",
      "{'town': 'Kapas Hera', 'lat': 28.65381, 'long': 77.22897, '_id': ObjectId('5fa6f749f96c486085d03aec')}\n",
      "{'town': 'Karala', 'lat': 28.7320031, 'long': 77.0318273, '_id': ObjectId('5fa6f74af96c486085d03aed')}\n",
      "{'town': 'Karawal Nagar', 'lat': 28.7311406, 'long': 77.2747898, '_id': ObjectId('5fa6f74af96c486085d03aee')}\n",
      "{'town': 'Khajoori Khas', 'lat': 28.65381, 'long': 77.22897, '_id': ObjectId('5fa6f74bf96c486085d03aef')}\n",
      "{'town': 'Khan Pur Dhani', 'lat': 28.65381, 'long': 77.22897, '_id': ObjectId('5fa6f74cf96c486085d03af0')}\n",
      "{'town': 'Khera', 'lat': 28.6769548, 'long': 77.3015259, '_id': ObjectId('5fa6f74df96c486085d03af1')}\n",
      "{'town': 'Khera Kalan', 'lat': 28.7748325, 'long': 77.1162812, '_id': ObjectId('5fa6f74ef96c486085d03af2')}\n",
      "{'town': 'Khera Khurd', 'lat': 28.7764499, 'long': 77.097141, '_id': ObjectId('5fa6f74ff96c486085d03af3')}\n",
      "{'town': 'Kirari Suleman Nagar', 'lat': 28.7026993, 'long': 77.047004, '_id': ObjectId('5fa6f750f96c486085d03af4')}\n",
      "{'town': 'Kondli', 'lat': 28.6070816, 'long': 77.3243319, '_id': ObjectId('5fa6f751f96c486085d03af5')}\n",
      "{'town': 'Kotla Mahigiran', 'lat': 28.65381, 'long': 77.22897, '_id': ObjectId('5fa6f752f96c486085d03af6')}\n",
      "{'town': 'Kusum Pur', 'lat': 28.65381, 'long': 77.22897, '_id': ObjectId('5fa6f752f96c486085d03af7')}\n",
      "{'town': 'Lad Pur', 'lat': 28.65381, 'long': 77.22897, '_id': ObjectId('5fa6f753f96c486085d03af8')}\n",
      "{'town': 'Libas Pur', 'lat': 28.65381, 'long': 77.22897, '_id': ObjectId('5fa6f754f96c486085d03af9')}\n",
      "{'town': 'Maidan Garhi', 'lat': 28.4987734, 'long': 77.1944475, '_id': ObjectId('5fa6f755f96c486085d03afa')}\n",
      "{'town': 'Malik Pur Kohi (Rang Puri)', 'lat': 28.65381, 'long': 77.22897, '_id': ObjectId('5fa6f756f96c486085d03afb')}\n",
      "{'town': 'Mandoli', 'lat': 28.6927155, 'long': 77.3007192, '_id': ObjectId('5fa6f757f96c486085d03afc')}\n",
      "{'town': 'Mir Pur Turk', 'lat': 28.65381, 'long': 77.22897, '_id': ObjectId('5fa6f758f96c486085d03afd')}\n",
      "{'town': 'Mithe Pur', 'lat': 28.65381, 'long': 77.22897, '_id': ObjectId('5fa6f759f96c486085d03afe')}\n",
      "{'town': 'Mitraon', 'lat': 28.6074198, 'long': 76.9453065, '_id': ObjectId('5fa6f75af96c486085d03aff')}\n",
      "{'town': 'Mohammad Pur Majri', 'lat': 28.65381, 'long': 77.22897, '_id': ObjectId('5fa6f75bf96c486085d03b00')}\n",
      "{'town': 'Molar Band', 'lat': 28.65381, 'long': 77.22897, '_id': ObjectId('5fa6f75df96c486085d03b01')}\n",
      "{'town': 'Moradabad Pahari', 'lat': 28.65381, 'long': 77.22897, '_id': ObjectId('5fa6f75ef96c486085d03b02')}\n",
      "{'town': 'Mubarak Pur Dabas', 'lat': 28.65381, 'long': 77.22897, '_id': ObjectId('5fa6f75ff96c486085d03b03')}\n",
      "{'town': 'Mukand Pur', 'lat': 28.65381, 'long': 77.22897, '_id': ObjectId('5fa6f760f96c486085d03b04')}\n",
      "{'town': 'Mukhmel Pur', 'lat': 28.65381, 'long': 77.22897, '_id': ObjectId('5fa6f761f96c486085d03b05')}\n",
      "{'town': 'Mundka', 'lat': 28.6824341, 'long': 77.0305741, '_id': ObjectId('5fa6f762f96c486085d03b06')}\n",
      "{'town': 'Mustafabad', 'lat': 28.65381, 'long': 77.22897, '_id': ObjectId('5fa6f763f96c486085d03b07')}\n",
      "{'town': 'Nangli Sakrawati', 'lat': 28.6196158, 'long': 77.0016997, '_id': ObjectId('5fa6f764f96c486085d03b08')}\n"
     ]
    },
    {
     "name": "stdout",
     "output_type": "stream",
     "text": [
      "{'town': 'Nangloi Jat', 'lat': 28.6786, 'long': 77.06749, '_id': ObjectId('5fa6f765f96c486085d03b09')}\n",
      "{'town': 'Neb Sarai', 'lat': 28.5055007, 'long': 77.2014964, '_id': ObjectId('5fa6f768f96c486085d03b0a')}\n",
      "{'town': 'New Delhi', 'lat': 28.6138954, 'long': 77.2090057, '_id': ObjectId('5fa6f769f96c486085d03b0b')}\n",
      "{'town': 'Nilothi', 'lat': 28.6501688, 'long': 77.0553212, '_id': ObjectId('5fa6f76af96c486085d03b0c')}\n",
      "{'town': 'Nithari', 'lat': 28.5765037, 'long': 77.3196846, '_id': ObjectId('5fa6f76bf96c486085d03b0d')}\n",
      "{'town': 'Pehlad Pur Bangar', 'lat': 28.65381, 'long': 77.22897, '_id': ObjectId('5fa6f76cf96c486085d03b0e')}\n",
      "{'town': 'Pooth Kalan', 'lat': 28.65381, 'long': 77.22897, '_id': ObjectId('5fa6f76df96c486085d03b0f')}\n",
      "{'town': 'Pooth Khurd', 'lat': 28.65381, 'long': 77.22897, '_id': ObjectId('5fa6f76ef96c486085d03b10')}\n",
      "{'town': 'Pul Pehlad', 'lat': 28.65381, 'long': 77.22897, '_id': ObjectId('5fa6f76ff96c486085d03b11')}\n",
      "{'town': 'Qadi Pur', 'lat': 28.65381, 'long': 77.22897, '_id': ObjectId('5fa6f771f96c486085d03b12')}\n",
      "{'town': 'Quammruddin Nagar', 'lat': 28.65381, 'long': 77.22897, '_id': ObjectId('5fa6f772f96c486085d03b13')}\n",
      "{'town': 'Qutab Garh', 'lat': 28.65381, 'long': 77.22897, '_id': ObjectId('5fa6f773f96c486085d03b14')}\n",
      "{'town': 'Raja Pur Khurd', 'lat': 28.65381, 'long': 77.22897, '_id': ObjectId('5fa6f774f96c486085d03b15')}\n",
      "{'town': 'Rajokri', 'lat': 28.5131702, 'long': 77.1107659, '_id': ObjectId('5fa6f775f96c486085d03b16')}\n",
      "{'town': 'Raj Pur Khurd', 'lat': 28.65381, 'long': 77.22897, '_id': ObjectId('5fa6f776f96c486085d03b17')}\n",
      "{'town': 'Rani Khera', 'lat': 28.7061763, 'long': 77.0234192, '_id': ObjectId('5fa6f777f96c486085d03b18')}\n",
      "{'town': 'Roshan Pura (Dichaon Khurd)', 'lat': 28.65381, 'long': 77.22897, '_id': ObjectId('5fa6f777f96c486085d03b19')}\n",
      "{'town': 'Sadat Pur Gujran', 'lat': 28.65381, 'long': 77.22897, '_id': ObjectId('5fa6f779f96c486085d03b1a')}\n",
      "{'town': 'Sahibabad Daulat Pur', 'lat': 28.65381, 'long': 77.22897, '_id': ObjectId('5fa6f77af96c486085d03b1b')}\n",
      "{'town': 'Saidabad', 'lat': 28.65381, 'long': 77.22897, '_id': ObjectId('5fa6f77af96c486085d03b1c')}\n",
      "{'town': 'Saidul Azaib', 'lat': 28.65381, 'long': 77.22897, '_id': ObjectId('5fa6f77bf96c486085d03b1d')}\n",
      "{'town': 'Sambhalka', 'lat': 28.65381, 'long': 77.22897, '_id': ObjectId('5fa6f77cf96c486085d03b1e')}\n",
      "{'town': 'Shafi Pur Ranhola', 'lat': 28.65381, 'long': 77.22897, '_id': ObjectId('5fa6f77df96c486085d03b1f')}\n",
      "{'town': 'Shakar Pur Baramad', 'lat': 28.65381, 'long': 77.22897, '_id': ObjectId('5fa6f77ef96c486085d03b20')}\n",
      "{'town': 'Siras Pur', 'lat': 28.65381, 'long': 77.22897, '_id': ObjectId('5fa6f77ff96c486085d03b21')}\n",
      "{'town': 'Sultan Pur', 'lat': 28.65381, 'long': 77.22897, '_id': ObjectId('5fa6f780f96c486085d03b22')}\n",
      "{'town': 'Sultan Pur Majra', 'lat': 28.65381, 'long': 77.22897, '_id': ObjectId('5fa6f781f96c486085d03b23')}\n",
      "{'town': 'Taj Pul', 'lat': 28.65381, 'long': 77.22897, '_id': ObjectId('5fa6f781f96c486085d03b24')}\n",
      "{'town': 'Tigri', 'lat': 28.5117193, 'long': 77.240937, '_id': ObjectId('5fa6f782f96c486085d03b25')}\n",
      "{'town': 'Tikri Kalan', 'lat': 28.6868661, 'long': 76.9772069, '_id': ObjectId('5fa6f783f96c486085d03b26')}\n",
      "{'town': 'Tikri Khurd', 'lat': 28.8356621, 'long': 77.1184261, '_id': ObjectId('5fa6f784f96c486085d03b27')}\n",
      "{'town': 'Tilang Pur Kotla', 'lat': 28.65381, 'long': 77.22897, '_id': ObjectId('5fa6f785f96c486085d03b28')}\n",
      "{'town': 'Tukhmir Pur', 'lat': 28.65381, 'long': 77.22897, '_id': ObjectId('5fa6f785f96c486085d03b29')}\n",
      "{'town': 'Ujwa', 'lat': 28.5699629, 'long': 76.9093434, '_id': ObjectId('5fa6f786f96c486085d03b2a')}\n",
      "{'town': 'Ziauddin Pur', 'lat': 28.65381, 'long': 77.22897, '_id': ObjectId('5fa6f787f96c486085d03b2b')}\n"
     ]
    }
   ],
   "source": [
    "import pandas as pd\n",
    "# pandas.__version__\n",
    "\n",
    "import pymongo\n",
    "\n",
    "\n",
    "\n",
    "myclient = pymongo.MongoClient(\"mongodb://localhost:27017/\")\n",
    "coordinates = myclient[\"coordinates\"]\n",
    "town = coordinates[\"town\"]\n",
    "df_towns = pd.read_excel('towns.xlsx',index_col = 0)\n",
    "\n",
    "from opencage.geocoder import OpenCageGeocode\n",
    "key = \"f17e3adbd2fc4d81ac431f466dfcbe87\"  \n",
    "geocoder = OpenCageGeocode(key)\n",
    "\n",
    "list_lat = []   # create empty lists\n",
    "list_long = []\n",
    "\n",
    "for index, row in df_towns.iterrows(): # iterate over rows in dataframe\n",
    "    \n",
    "    Town = row['Name']\n",
    "    query = str(Town)+','+ \"Delhi\"\n",
    "\n",
    "    results = geocoder.geocode(query)   \n",
    "    lat = results[0]['geometry']['lat']\n",
    "    long = results[0]['geometry']['lng']\n",
    "    cor = {\"town\":Town, \"lat\": lat, \"long\": long}\n",
    "    town.insert_one(cor)\n",
    "    list_lat.append(lat)\n",
    "    list_long.append(long)\n",
    "    print(cor)\n",
    "\n",
    "\t\n",
    "# create new columns from lists    \n",
    "\n",
    "df_towns['latitude'] = list_lat   \n",
    "\n",
    "df_towns['longitude'] = list_long\n",
    "\n",
    "df_towns.to_excel(\"towns.xlsx\")"
   ]
  },
  {
   "cell_type": "code",
   "execution_count": 29,
   "metadata": {},
   "outputs": [],
   "source": [
    "df_towns = pd.read_excel('towns.xlsx')\n",
    "pdf =  df_towns.loc[df_towns['Name'] == \"Aali\"].to_dict()"
   ]
  },
  {
   "cell_type": "code",
   "execution_count": 35,
   "metadata": {},
   "outputs": [],
   "source": [
    "lat = pdf[\"latitude\"][0]"
   ]
  },
  {
   "cell_type": "code",
   "execution_count": 37,
   "metadata": {},
   "outputs": [
    {
     "data": {
      "text/plain": [
       "28.5207056"
      ]
     },
     "execution_count": 37,
     "metadata": {},
     "output_type": "execute_result"
    }
   ],
   "source": [
    "pdf[\"latitude\"][0]"
   ]
  },
  {
   "cell_type": "code",
   "execution_count": 40,
   "metadata": {},
   "outputs": [
    {
     "ename": "KeyError",
     "evalue": "'0'",
     "output_type": "error",
     "traceback": [
      "\u001b[1;31m---------------------------------------------------------------------------\u001b[0m",
      "\u001b[1;31mKeyError\u001b[0m                                  Traceback (most recent call last)",
      "\u001b[1;32m<ipython-input-40-c388bb17c8cc>\u001b[0m in \u001b[0;36m<module>\u001b[1;34m\u001b[0m\n\u001b[1;32m----> 1\u001b[1;33m \u001b[0mcor1\u001b[0m \u001b[1;33m=\u001b[0m \u001b[1;33m(\u001b[0m\u001b[0mpdf\u001b[0m\u001b[1;33m[\u001b[0m\u001b[1;34m\"latitude\"\u001b[0m\u001b[1;33m]\u001b[0m\u001b[1;33m[\u001b[0m\u001b[1;34m\"0\"\u001b[0m\u001b[1;33m]\u001b[0m\u001b[1;33m,\u001b[0m \u001b[0mpdf\u001b[0m\u001b[1;33m[\u001b[0m\u001b[1;34m\"longitude\"\u001b[0m\u001b[1;33m]\u001b[0m\u001b[1;33m[\u001b[0m\u001b[1;34m\"0\"\u001b[0m\u001b[1;33m]\u001b[0m\u001b[1;33m)\u001b[0m\u001b[1;33m\u001b[0m\u001b[1;33m\u001b[0m\u001b[0m\n\u001b[0m",
      "\u001b[1;31mKeyError\u001b[0m: '0'"
     ]
    }
   ],
   "source": [
    "cor1 = (pdf[\"latitude\"][\"0\"], pdf[\"longitude\"][\"0\"])"
   ]
  },
  {
   "cell_type": "code",
   "execution_count": 39,
   "metadata": {},
   "outputs": [
    {
     "data": {
      "text/plain": [
       "(28.5207056, 77.3068719)"
      ]
     },
     "execution_count": 39,
     "metadata": {},
     "output_type": "execute_result"
    }
   ],
   "source": [
    "cor1"
   ]
  },
  {
   "cell_type": "code",
   "execution_count": 52,
   "metadata": {},
   "outputs": [
    {
     "name": "stdout",
     "output_type": "stream",
     "text": [
      "The best state found is:  [7 6 5 4 3 2 1 0]\n",
      "The fitness at the best state is:  17.3428\n",
      "5.69031140000061\n"
     ]
    }
   ],
   "source": [
    "import six\n",
    "import sys\n",
    "sys.modules['sklearn.externals.six'] = six\n",
    "import mlrose\n",
    "import numpy as np\n",
    "from timeit import default_timer as timer \n",
    "\n",
    "# Create list of distances between pairs of cities\n",
    "dist_list = [(0, 1, 3.1623), (0, 2, 4.1231), (0, 3, 5.8310), (0, 4, 4.2426),\n",
    "             (0, 5, 5.3852), (0, 6, 4.0000), (0, 7, 2.2361), (1, 2, 1.0000),\n",
    "             (1, 3, 2.8284), (1, 4, 2.0000), (1, 5, 4.1231), (1, 6, 4.2426),\n",
    "             (1, 7, 2.2361), (2, 3, 2.2361), (2, 4, 2.2361), (2, 5, 4.4721),\n",
    "             (2, 6, 5.0000), (2, 7, 3.1623), (3, 4, 2.0000), (3, 5, 3.6056),\n",
    "             (3, 6, 5.0990), (3, 7, 4.1231), (4, 5, 2.2361), (4, 6, 3.1623),\n",
    "             (4, 7, 2.2361), (5, 6, 2.2361), (5, 7, 3.1623), (6, 7, 2.2361)]\n",
    "\n",
    "start = timer()\n",
    "# Initialize fitness function object using dist_list\n",
    "fitness_dists = mlrose.TravellingSales(distances = dist_list)\n",
    "\n",
    "problem_fit = mlrose.TSPOpt(length = 8, fitness_fn = fitness_dists, maximize=False)\n",
    "\n",
    "# Solve problem using the genetic algorithm\n",
    "best_state, best_fitness = mlrose.genetic_alg(problem_fit, mutation_prob = 0.2, \n",
    "\t\t\t\t\t      max_attempts = 100, random_state = 2)\n",
    "\n",
    "\n",
    "\n",
    "print('The best state found is: ', best_state)\n",
    "\n",
    "print('The fitness at the best state is: ', best_fitness)\n",
    "\n",
    "print(timer()-start)"
   ]
  },
  {
   "cell_type": "code",
   "execution_count": null,
   "metadata": {},
   "outputs": [],
   "source": []
  }
 ],
 "metadata": {
  "kernelspec": {
   "display_name": "Python 3",
   "language": "python",
   "name": "python3"
  },
  "language_info": {
   "codemirror_mode": {
    "name": "ipython",
    "version": 3
   },
   "file_extension": ".py",
   "mimetype": "text/x-python",
   "name": "python",
   "nbconvert_exporter": "python",
   "pygments_lexer": "ipython3",
   "version": "3.8.3"
  }
 },
 "nbformat": 4,
 "nbformat_minor": 4
}
